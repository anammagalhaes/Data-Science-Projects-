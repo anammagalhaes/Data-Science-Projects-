{
  "nbformat": 4,
  "nbformat_minor": 0,
  "metadata": {
    "colab": {
      "name": "Análise de Risco de Crédito",
      "provenance": [],
      "collapsed_sections": [],
      "authorship_tag": "ABX9TyMyEvukpdpFqGZ+50mxbuWH",
      "include_colab_link": true
    },
    "kernelspec": {
      "name": "python3",
      "display_name": "Python 3"
    }
  },
  "cells": [
    {
      "cell_type": "markdown",
      "metadata": {
        "id": "view-in-github",
        "colab_type": "text"
      },
      "source": [
        "<a href=\"https://colab.research.google.com/github/anammagalhaes/Data-Science-Projects-/blob/master/An%C3%A1lise_de_Risco_de_Cr%C3%A9dito.ipynb\" target=\"_parent\"><img src=\"https://colab.research.google.com/assets/colab-badge.svg\" alt=\"Open In Colab\"/></a>"
      ]
    },
    {
      "cell_type": "markdown",
      "metadata": {
        "id": "y1a_nzyT-0-S"
      },
      "source": [
        "## **Desenvolvimento de um modelo de *Machine Learning* para Análise de Risco de Crédito**"
      ]
    },
    {
      "cell_type": "markdown",
      "metadata": {
        "id": "nHfriygp_Cpe"
      },
      "source": [
        "## **Contextualização do problema**\n",
        "\n",
        "A **taxa de inadimplência** dos clientes é um problema recorrente para bancos, financiadoras e empresários. \n",
        "\n",
        "Analisar o histórico financeiro e de pagamentos das pessoas é, portanto, de extrema relevância, uma vez que a inadimplência pode causar grandes impactos no balanço da Instituição. É por isso que cada vez mais vem sendo desenvolvidas soluções que tem como finalidade a minimização do risco de *default*. É a partir da análise de risco de crédito que uma Instituição pode definir se o cliente \"merece\" ou não sua confiança diante de pagamentos ou financiamentos. É normalmente feita quando o cliente solicita o serviço. \n",
        "\n",
        "O termo ***default*** é utilizado para indicar o não cumprimento das obrigações e/ou condições de um empréstimo, como financiamento ou dívidas de cartão de crédito, o que significa que, de fato, o cliente está inadimplente. \n",
        " \n",
        "Atualmente, grandes gancos e Fintechs apostam em modelos de *Machine Learning* para prevenir a inadimplência de seus clientes ou ainda, prever quais aqueles que podem vir a se tornar inadimplentes. \n",
        "\n",
        "O **objetivo** deste projeto é prever a probabilidade de um cliente da Fintech em não cumprir com suas obrigações financeiras e não pagar sua fatura de Cartão de Crédito. Ou seja, utilizando **Python**, **Data Science** e **Machine Learning** iremos criar um modelo, que baseado em dados históricos, indicará se o cliente poderá ser inadimplente futuramente. Desta forma, espera-se que o modelo seja capaz de minimizar as perdas financeiras da Fintech assim como os falsos positivos.  \n",
        "\n",
        "Além disso, a finalidade maior é aplicar técnicas e ferramentas que me possibilitem a teoria e a prática, concomitantemente. Aprender e experimentar. \n"
      ]
    },
    {
      "cell_type": "markdown",
      "metadata": {
        "id": "FPm9rI224Cd0"
      },
      "source": [
        "![WhatsApp Image 2020-10-20 at 13.36.18.jpeg](data:image/jpeg;base64,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)"
      ]
    },
    {
      "cell_type": "markdown",
      "metadata": {
        "id": "n-0LwF9wDeob"
      },
      "source": [
        "###Importando os Pacotes necessários e o Banco de Dados "
      ]
    },
    {
      "cell_type": "markdown",
      "metadata": {
        "id": "-88whKnCD9SV"
      },
      "source": [
        "Os pacotes do Python que serão impoortados são alguns necessários para a análise exploratória e outros para a criação do modelo. "
      ]
    },
    {
      "cell_type": "code",
      "metadata": {
        "id": "rA7cW3HJ91V_"
      },
      "source": [
        "# instalar Pandas Profiling\n",
        "!pip install scikit-plot -q\n",
        "!pip install imbalanced-learn -q"
      ],
      "execution_count": 21,
      "outputs": []
    },
    {
      "cell_type": "code",
      "metadata": {
        "id": "TDeuYkgH95io"
      },
      "source": [
        "# importar os pacotes necessários \n",
        "import pandas as pd\n",
        "import numpy as np\n",
        "import matplotlib.pyplot as plt\n",
        "import seaborn as sns\n",
        "import scikitplot as skplt\n",
        "from imblearn.under_sampling import RandomUnderSampler\n",
        "from sklearn.metrics import accuracy_score, f1_score, confusion_matrix, classification_report\n",
        "from scikitplot.metrics import plot_confusion_matrix\n",
        "from sklearn.preprocessing import StandardScaler, LabelEncoder\n",
        "from sklearn.pipeline import make_pipeline\n",
        "from sklearn.model_selection import train_test_split\n",
        "from sklearn.model_selection import cross_val_score\n",
        "from sklearn.model_selection import StratifiedKFold\n",
        "from sklearn.model_selection import GridSearchCV\n",
        "from sklearn.svm import SVC\n",
        "from lightgbm import LGBMClassifier\n",
        "from sklearn.linear_model import SGDClassifier\n",
        "from sklearn.tree import DecisionTreeClassifier\n",
        "from sklearn.linear_model import LogisticRegression\n",
        "from xgboost import XGBClassifier\n",
        "from sklearn.ensemble import RandomForestClassifier\n",
        "\n",
        "# random seed\n",
        "np.random.seed(42)\n",
        "\n",
        "# definir o estilo do seaborn para os plots\n",
        "sns.set_style()\n",
        "\n",
        "# filtrar mensagens de warning\n",
        "import warnings\n",
        "warnings.filterwarnings('ignore')"
      ],
      "execution_count": 22,
      "outputs": []
    },
    {
      "cell_type": "markdown",
      "metadata": {
        "id": "Pj4Zf0pWEJlH"
      },
      "source": [
        "O Banco de dados que será analisado foi retirado de uma competição realizada por uma Startup a fim de revelar talentos para contratações pela Fintech. Este banco de dados foi disponibilidado em formato csv no curso de Data Science da Sigmoidal. A partir do pacote Pandas podemos importar o csv e criar um DataFrame para possibilitar a sua manipulação e análise. \n"
      ]
    },
    {
      "cell_type": "code",
      "metadata": {
        "id": "I95HKP3u-esb"
      },
      "source": [
        "df = pd.read_csv(\"http://dl.dropboxusercontent.com/s/xn2a4kzf0zer0xu/acquisition_train.csv?dl=0\")"
      ],
      "execution_count": 23,
      "outputs": []
    },
    {
      "cell_type": "markdown",
      "metadata": {
        "id": "lYn3acOJ7r5z"
      },
      "source": [
        "### Análise Exploratória "
      ]
    },
    {
      "cell_type": "markdown",
      "metadata": {
        "id": "6jksVZs7TcHr"
      },
      "source": [
        "Depois de criar o DataFrame, devemos examinar as suas dimensões, ou seja, quantidade de variáveis e de entradas. "
      ]
    },
    {
      "cell_type": "code",
      "metadata": {
        "id": "yxuW05uP73Lj",
        "colab": {
          "base_uri": "https://localhost:8080/"
        },
        "outputId": "3ce7ab7a-d2d6-44d7-a9ee-4f3788599c3f"
      },
      "source": [
        "# Analisar a dimensão do dataset \n",
        "\n",
        "print(\"Dimensões do DataFrame:\")\n",
        "print(\"Entradas:\\t{}\".format(df.shape[0]))\n",
        "print(\"Variáveis:\\t{}\".format(df.shape[1]))"
      ],
      "execution_count": 24,
      "outputs": [
        {
          "output_type": "stream",
          "text": [
            "Dimensões do DataFrame:\n",
            "Entradas:\t45000\n",
            "Variáveis:\t43\n"
          ],
          "name": "stdout"
        }
      ]
    },
    {
      "cell_type": "markdown",
      "metadata": {
        "id": "Z6BS4xgQTmTO"
      },
      "source": [
        "Desta forma, sabemos que é composto por 45 mil entradas, que são as linhas e 43 features (ou variáveis) que são as colunas. Imprimir as primeiras entradas do dataset nos permite também ter uma noção inicial de como os dados estão distribuidos e seus formatos, bem como estipular algumas hipóteses iniciais para as análises exploratórias. "
      ]
    },
    {
      "cell_type": "code",
      "metadata": {
        "id": "3FHuEUqM8dN7",
        "colab": {
          "base_uri": "https://localhost:8080/",
          "height": 615
        },
        "outputId": "aad14958-6df7-420a-ced8-8d61404a976c"
      },
      "source": [
        "# Analisando as primeiras cinco primeiras entradas \n",
        "\n",
        "df.head()"
      ],
      "execution_count": 25,
      "outputs": [
        {
          "output_type": "execute_result",
          "data": {
            "text/html": [
              "<div>\n",
              "<style scoped>\n",
              "    .dataframe tbody tr th:only-of-type {\n",
              "        vertical-align: middle;\n",
              "    }\n",
              "\n",
              "    .dataframe tbody tr th {\n",
              "        vertical-align: top;\n",
              "    }\n",
              "\n",
              "    .dataframe thead th {\n",
              "        text-align: right;\n",
              "    }\n",
              "</style>\n",
              "<table border=\"1\" class=\"dataframe\">\n",
              "  <thead>\n",
              "    <tr style=\"text-align: right;\">\n",
              "      <th></th>\n",
              "      <th>ids</th>\n",
              "      <th>target_default</th>\n",
              "      <th>score_1</th>\n",
              "      <th>score_2</th>\n",
              "      <th>score_3</th>\n",
              "      <th>score_4</th>\n",
              "      <th>score_5</th>\n",
              "      <th>score_6</th>\n",
              "      <th>risk_rate</th>\n",
              "      <th>last_amount_borrowed</th>\n",
              "      <th>last_borrowed_in_months</th>\n",
              "      <th>credit_limit</th>\n",
              "      <th>reason</th>\n",
              "      <th>income</th>\n",
              "      <th>facebook_profile</th>\n",
              "      <th>state</th>\n",
              "      <th>zip</th>\n",
              "      <th>channel</th>\n",
              "      <th>job_name</th>\n",
              "      <th>real_state</th>\n",
              "      <th>ok_since</th>\n",
              "      <th>n_bankruptcies</th>\n",
              "      <th>n_defaulted_loans</th>\n",
              "      <th>n_accounts</th>\n",
              "      <th>n_issues</th>\n",
              "      <th>application_time_applied</th>\n",
              "      <th>application_time_in_funnel</th>\n",
              "      <th>email</th>\n",
              "      <th>external_data_provider_credit_checks_last_2_year</th>\n",
              "      <th>external_data_provider_credit_checks_last_month</th>\n",
              "      <th>external_data_provider_credit_checks_last_year</th>\n",
              "      <th>external_data_provider_email_seen_before</th>\n",
              "      <th>external_data_provider_first_name</th>\n",
              "      <th>external_data_provider_fraud_score</th>\n",
              "      <th>lat_lon</th>\n",
              "      <th>marketing_channel</th>\n",
              "      <th>profile_phone_number</th>\n",
              "      <th>reported_income</th>\n",
              "      <th>shipping_state</th>\n",
              "      <th>shipping_zip_code</th>\n",
              "      <th>profile_tags</th>\n",
              "      <th>user_agent</th>\n",
              "      <th>target_fraud</th>\n",
              "    </tr>\n",
              "  </thead>\n",
              "  <tbody>\n",
              "    <tr>\n",
              "      <th>0</th>\n",
              "      <td>343b7e7b-2cf8-e508-b8fd-0a0285af30aa</td>\n",
              "      <td>False</td>\n",
              "      <td>1Rk8w4Ucd5yR3KcqZzLdow==</td>\n",
              "      <td>IOVu8au3ISbo6+zmfnYwMg==</td>\n",
              "      <td>350.0</td>\n",
              "      <td>101.800832</td>\n",
              "      <td>0.259555</td>\n",
              "      <td>108.427273</td>\n",
              "      <td>0.40</td>\n",
              "      <td>25033.92</td>\n",
              "      <td>36.0</td>\n",
              "      <td>0.0</td>\n",
              "      <td>mLVIVxoGY7TUDJ1FyFoSIZi1SFcaBmO01AydRchaEiGYtU...</td>\n",
              "      <td>65014.12</td>\n",
              "      <td>True</td>\n",
              "      <td>sjJbkqJS7cXalHLBFA+EOQ==</td>\n",
              "      <td>Ernn+uVXCMq/6ARrBCcd+A==</td>\n",
              "      <td>NCqL3QBx0pscDnx3ixKwXg==</td>\n",
              "      <td>mLVIVxoGY7TUDJ1FyFoSIZi1SFcaBmO01AydRchaEiGYtU...</td>\n",
              "      <td>N5/CE7lSkAfB04hVFFwllw==</td>\n",
              "      <td>NaN</td>\n",
              "      <td>0.0</td>\n",
              "      <td>0.0</td>\n",
              "      <td>18.0</td>\n",
              "      <td>18.0</td>\n",
              "      <td>07:52:34</td>\n",
              "      <td>444</td>\n",
              "      <td>outlook.com</td>\n",
              "      <td>NaN</td>\n",
              "      <td>2</td>\n",
              "      <td>0.0</td>\n",
              "      <td>51.0</td>\n",
              "      <td>leidelaura</td>\n",
              "      <td>645</td>\n",
              "      <td>(-29.151545708122246, -51.1386461804385)</td>\n",
              "      <td>Invite-email</td>\n",
              "      <td>514-9840782</td>\n",
              "      <td>57849.0</td>\n",
              "      <td>BR-MT</td>\n",
              "      <td>17528</td>\n",
              "      <td>{'tags': ['n19', 'n8']}</td>\n",
              "      <td>Mozilla/5.0 (Linux; Android 6.0.1; SGP771 Buil...</td>\n",
              "      <td>NaN</td>\n",
              "    </tr>\n",
              "    <tr>\n",
              "      <th>1</th>\n",
              "      <td>bc2c7502-bbad-0f8c-39c3-94e881967124</td>\n",
              "      <td>False</td>\n",
              "      <td>DGCQep2AE5QRkNCshIAlFQ==</td>\n",
              "      <td>SaamrHMo23l/3TwXOWgVzw==</td>\n",
              "      <td>370.0</td>\n",
              "      <td>97.062615</td>\n",
              "      <td>0.942655</td>\n",
              "      <td>92.002546</td>\n",
              "      <td>0.24</td>\n",
              "      <td>NaN</td>\n",
              "      <td>NaN</td>\n",
              "      <td>39726.0</td>\n",
              "      <td>mLVIVxoGY7TUDJ1FyFoSIZi1SFcaBmO01AydRchaEiGYtU...</td>\n",
              "      <td>100018.91</td>\n",
              "      <td>False</td>\n",
              "      <td>xsd3ZdsI3356I3xMxZeiqQ==</td>\n",
              "      <td>rlWIXTBO+VOa34+SpGyhlQ==</td>\n",
              "      <td>NCqL3QBx0pscDnx3ixKwXg==</td>\n",
              "      <td>mLVIVxoGY7TUDJ1FyFoSIZi1SFcaBmO01AydRchaEiGYtU...</td>\n",
              "      <td>N5/CE7lSkAfB04hVFFwllw==</td>\n",
              "      <td>50.0</td>\n",
              "      <td>0.0</td>\n",
              "      <td>0.0</td>\n",
              "      <td>14.0</td>\n",
              "      <td>14.0</td>\n",
              "      <td>02:34:29</td>\n",
              "      <td>346</td>\n",
              "      <td>gmail.com</td>\n",
              "      <td>0.0</td>\n",
              "      <td>1</td>\n",
              "      <td>0.0</td>\n",
              "      <td>17.0</td>\n",
              "      <td>diocezio</td>\n",
              "      <td>243</td>\n",
              "      <td>(-19.687710705798963, -47.94151536525154)</td>\n",
              "      <td>Radio-commercial</td>\n",
              "      <td>251-3659293</td>\n",
              "      <td>4902.0</td>\n",
              "      <td>BR-RS</td>\n",
              "      <td>40933</td>\n",
              "      <td>{'tags': ['n6', 'n7', 'nim']}</td>\n",
              "      <td>Mozilla/5.0 (Linux; Android 5.0.2; SAMSUNG SM-...</td>\n",
              "      <td>NaN</td>\n",
              "    </tr>\n",
              "    <tr>\n",
              "      <th>2</th>\n",
              "      <td>669630dd-2e6a-0396-84bf-455e5009c922</td>\n",
              "      <td>True</td>\n",
              "      <td>DGCQep2AE5QRkNCshIAlFQ==</td>\n",
              "      <td>Fv28Bz0YRTVAT5kl1bAV6g==</td>\n",
              "      <td>360.0</td>\n",
              "      <td>100.027073</td>\n",
              "      <td>0.351918</td>\n",
              "      <td>112.892453</td>\n",
              "      <td>0.29</td>\n",
              "      <td>7207.92</td>\n",
              "      <td>36.0</td>\n",
              "      <td>NaN</td>\n",
              "      <td>mLVIVxoGY7TUDJ1FyFoSIZi1SFcaBmO01AydRchaEiGYtU...</td>\n",
              "      <td>65023.65</td>\n",
              "      <td>NaN</td>\n",
              "      <td>Ygq6MsM98oC8yceExr69Ig==</td>\n",
              "      <td>PjTIDfJsK0DKL9fO7vuW2g==</td>\n",
              "      <td>NCqL3QBx0pscDnx3ixKwXg==</td>\n",
              "      <td>mLVIVxoGY7TUDJ1FyFoSIZi1SFcaBmO01AydRchaEiGYtU...</td>\n",
              "      <td>n+xK9CfX0bCn77lClTWviw==</td>\n",
              "      <td>NaN</td>\n",
              "      <td>0.0</td>\n",
              "      <td>0.0</td>\n",
              "      <td>10.0</td>\n",
              "      <td>NaN</td>\n",
              "      <td>00:60:02</td>\n",
              "      <td>6</td>\n",
              "      <td>gmail.com</td>\n",
              "      <td>NaN</td>\n",
              "      <td>2</td>\n",
              "      <td>NaN</td>\n",
              "      <td>9.0</td>\n",
              "      <td>veralucia</td>\n",
              "      <td>65</td>\n",
              "      <td>(-28.748023890412284, -51.867279334353995)</td>\n",
              "      <td>Waiting-list</td>\n",
              "      <td>230-6097993</td>\n",
              "      <td>163679.0</td>\n",
              "      <td>BR-RR</td>\n",
              "      <td>50985</td>\n",
              "      <td>{'tags': ['n0', 'n17', 'nim', 'da']}</td>\n",
              "      <td>Mozilla/5.0 (Linux; Android 6.0.1; SGP771 Buil...</td>\n",
              "      <td>NaN</td>\n",
              "    </tr>\n",
              "    <tr>\n",
              "      <th>3</th>\n",
              "      <td>d235609e-b6cb-0ccc-a329-d4f12e7ebdc1</td>\n",
              "      <td>False</td>\n",
              "      <td>1Rk8w4Ucd5yR3KcqZzLdow==</td>\n",
              "      <td>dCm9hFKfdRm7ej3jW+gyxw==</td>\n",
              "      <td>510.0</td>\n",
              "      <td>101.599485</td>\n",
              "      <td>0.987673</td>\n",
              "      <td>94.902491</td>\n",
              "      <td>0.32</td>\n",
              "      <td>NaN</td>\n",
              "      <td>NaN</td>\n",
              "      <td>54591.0</td>\n",
              "      <td>mLVIVxoGY7TUDJ1FyFoSIZi1SFcaBmO01AydRchaEiGYtU...</td>\n",
              "      <td>68830.01</td>\n",
              "      <td>False</td>\n",
              "      <td>KET/Pmr6rHp1RJ/P9ymztw==</td>\n",
              "      <td>Cc/kWDLQH3dpHv5HU+pLVA==</td>\n",
              "      <td>NCqL3QBx0pscDnx3ixKwXg==</td>\n",
              "      <td>mLVIVxoGY7TUDJ1FyFoSIZi1SFcaBmO01AydRchaEiE56f...</td>\n",
              "      <td>n+xK9CfX0bCn77lClTWviw==</td>\n",
              "      <td>NaN</td>\n",
              "      <td>1.0</td>\n",
              "      <td>0.0</td>\n",
              "      <td>19.0</td>\n",
              "      <td>19.0</td>\n",
              "      <td>11:20:49</td>\n",
              "      <td>406</td>\n",
              "      <td>spgov.com</td>\n",
              "      <td>NaN</td>\n",
              "      <td>3</td>\n",
              "      <td>NaN</td>\n",
              "      <td>38.0</td>\n",
              "      <td>venice</td>\n",
              "      <td>815</td>\n",
              "      <td>(-17.520650158450454, -39.75801139933186)</td>\n",
              "      <td>Waiting-list</td>\n",
              "      <td>261-3543751</td>\n",
              "      <td>1086.0</td>\n",
              "      <td>BR-RN</td>\n",
              "      <td>37825</td>\n",
              "      <td>{'tags': ['n4']}</td>\n",
              "      <td>Mozilla/5.0 (Linux; Android 6.0; HTC One X10 B...</td>\n",
              "      <td>NaN</td>\n",
              "    </tr>\n",
              "    <tr>\n",
              "      <th>4</th>\n",
              "      <td>9e0eb880-e8f4-3faa-67d8-f5cdd2b3932b</td>\n",
              "      <td>False</td>\n",
              "      <td>8k8UDR4Yx0qasAjkGrUZLw==</td>\n",
              "      <td>+CxEO4w7jv3QPI/BQbyqAA==</td>\n",
              "      <td>500.0</td>\n",
              "      <td>98.474289</td>\n",
              "      <td>0.532539</td>\n",
              "      <td>118.126207</td>\n",
              "      <td>0.18</td>\n",
              "      <td>NaN</td>\n",
              "      <td>NaN</td>\n",
              "      <td>NaN</td>\n",
              "      <td>mLVIVxoGY7TUDJ1FyFoSIZi1SFcaBmO01AydRchaEiGYtU...</td>\n",
              "      <td>60011.29</td>\n",
              "      <td>True</td>\n",
              "      <td>xsd3ZdsI3356I3xMxZeiqQ==</td>\n",
              "      <td>i036nmJ7rfxo+3EvCD7Jnw==</td>\n",
              "      <td>NCqL3QBx0pscDnx3ixKwXg==</td>\n",
              "      <td>mLVIVxoGY7TUDJ1FyFoSIZi1SFcaBmO01AydRchaEiGYtU...</td>\n",
              "      <td>n+xK9CfX0bCn77lClTWviw==</td>\n",
              "      <td>NaN</td>\n",
              "      <td>0.0</td>\n",
              "      <td>0.0</td>\n",
              "      <td>11.0</td>\n",
              "      <td>NaN</td>\n",
              "      <td>13:39:03</td>\n",
              "      <td>240</td>\n",
              "      <td>gmail.com</td>\n",
              "      <td>0.0</td>\n",
              "      <td>2</td>\n",
              "      <td>1.0</td>\n",
              "      <td>46.0</td>\n",
              "      <td>darzisa</td>\n",
              "      <td>320</td>\n",
              "      <td>(-16.574259446978008, -39.90990074785962)</td>\n",
              "      <td>Invite-email</td>\n",
              "      <td>102-3660162</td>\n",
              "      <td>198618.0</td>\n",
              "      <td>BR-MT</td>\n",
              "      <td>52827</td>\n",
              "      <td>{'tags': ['pro+aty', 'n19', 'da', 'b19']}</td>\n",
              "      <td>Mozilla/5.0 (Linux; Android 7.0; Pixel C Build...</td>\n",
              "      <td>NaN</td>\n",
              "    </tr>\n",
              "  </tbody>\n",
              "</table>\n",
              "</div>"
            ],
            "text/plain": [
              "                                    ids  ... target_fraud\n",
              "0  343b7e7b-2cf8-e508-b8fd-0a0285af30aa  ...          NaN\n",
              "1  bc2c7502-bbad-0f8c-39c3-94e881967124  ...          NaN\n",
              "2  669630dd-2e6a-0396-84bf-455e5009c922  ...          NaN\n",
              "3  d235609e-b6cb-0ccc-a329-d4f12e7ebdc1  ...          NaN\n",
              "4  9e0eb880-e8f4-3faa-67d8-f5cdd2b3932b  ...          NaN\n",
              "\n",
              "[5 rows x 43 columns]"
            ]
          },
          "metadata": {
            "tags": []
          },
          "execution_count": 25
        }
      ]
    },
    {
      "cell_type": "markdown",
      "metadata": {
        "id": "RprfNPQmUXXc"
      },
      "source": [
        "Baseado nas primeiras entradas do dataset, algumas observações já podem ser feitas: "
      ]
    },
    {
      "cell_type": "markdown",
      "metadata": {
        "id": "OZqLssQk9EXz"
      },
      "source": [
        "A feature IDS representa um identificador para cada cliente. Mais adiante, esta \n",
        "coluna pode ser eliminada pois ela não apresenta informação relevante para o nosso estudo em questão.\n",
        "\n",
        "  A coluna target_default apresenta a variável alvo para analisar o risco de default. É uma variável categórica e se divide em False e True. \n",
        "\n",
        "  As colunas ['score_3', 'score_4', 'score_5'] são numéricas e as colunas ['score_1', 'score_2'] estão codificadas. Além destas, outras variáveis também apresentam algum tipo de codificação, como é o caso de ['reason', 'state', 'zip', 'channel', 'job_name', 'real_state']. Nestes casos, são necessárias algumas análise posteriores e mais aprofundadas para identificar se é possível extrair alguma informação das mesmas e utilizá-las para gerar o modelo. \n",
        "\n",
        "  Aparentemente, a coluna profile_tags contém um dicionário com tags atribuídas a cada cliente.\n",
        "\n",
        "  A coluna lat_lon está em formato string contendo uma tupla com as coordenadas.\n",
        "\n",
        "  A coluna target_fraud pode ser a variável alvo de modelos com objetivo de onde o objetivo de detectar fraudes, por exemplo. Podemos notar que a partir de um dataset várias informações e modelos diferentes podem ser extraidos. \n",
        "\n",
        "  Por fim, pode ser que exista ainda outras considerações e hipóteses iniciais, no entanto, para este projeto, já possuimos observações necessárias para partir para as próximas análises exploratórias. \n",
        "\n"
      ]
    },
    {
      "cell_type": "markdown",
      "metadata": {
        "id": "YHA5Z3vfa7vT"
      },
      "source": [
        "Vamos realizar o levantamento dos tipos de variáveis que compõem o DataFrame a fim de estabelecer a divisão entre as variáveis numéricas e as variáveis categóricas. Isto será importante quando for treinar o modelo. "
      ]
    },
    {
      "cell_type": "code",
      "metadata": {
        "id": "1TZUNx0J9jBc",
        "colab": {
          "base_uri": "https://localhost:8080/"
        },
        "outputId": "f9621e6f-2f6c-49f4-9393-15d1de205eef"
      },
      "source": [
        "# Tipo das variáveis \n",
        "\n",
        "print(\"\\nTipos das variáveis\")\n",
        "print(df.dtypes)"
      ],
      "execution_count": 26,
      "outputs": [
        {
          "output_type": "stream",
          "text": [
            "\n",
            "Tipos das variáveis\n",
            "ids                                                  object\n",
            "target_default                                       object\n",
            "score_1                                              object\n",
            "score_2                                              object\n",
            "score_3                                             float64\n",
            "score_4                                             float64\n",
            "score_5                                             float64\n",
            "score_6                                             float64\n",
            "risk_rate                                           float64\n",
            "last_amount_borrowed                                float64\n",
            "last_borrowed_in_months                             float64\n",
            "credit_limit                                        float64\n",
            "reason                                               object\n",
            "income                                              float64\n",
            "facebook_profile                                     object\n",
            "state                                                object\n",
            "zip                                                  object\n",
            "channel                                              object\n",
            "job_name                                             object\n",
            "real_state                                           object\n",
            "ok_since                                            float64\n",
            "n_bankruptcies                                      float64\n",
            "n_defaulted_loans                                   float64\n",
            "n_accounts                                          float64\n",
            "n_issues                                            float64\n",
            "application_time_applied                             object\n",
            "application_time_in_funnel                            int64\n",
            "email                                                object\n",
            "external_data_provider_credit_checks_last_2_year    float64\n",
            "external_data_provider_credit_checks_last_month       int64\n",
            "external_data_provider_credit_checks_last_year      float64\n",
            "external_data_provider_email_seen_before            float64\n",
            "external_data_provider_first_name                    object\n",
            "external_data_provider_fraud_score                    int64\n",
            "lat_lon                                              object\n",
            "marketing_channel                                    object\n",
            "profile_phone_number                                 object\n",
            "reported_income                                     float64\n",
            "shipping_state                                       object\n",
            "shipping_zip_code                                     int64\n",
            "profile_tags                                         object\n",
            "user_agent                                           object\n",
            "target_fraud                                         object\n",
            "dtype: object\n"
          ],
          "name": "stdout"
        }
      ]
    },
    {
      "cell_type": "markdown",
      "metadata": {
        "id": "0WjKBviobTzA"
      },
      "source": [
        "Podemos ver que as variáveis numéricas são float ou int e a variável alvo, categórica, que é target_default é object. "
      ]
    },
    {
      "cell_type": "markdown",
      "metadata": {
        "id": "Dabskv8QZ9Hi"
      },
      "source": [
        "### Análise Estatística "
      ]
    },
    {
      "cell_type": "markdown",
      "metadata": {
        "id": "a_ABo9rVaGWh"
      },
      "source": [
        "É importante também imprimir um resumo estatístico do dataset a fim de analisar a média, mediana, distribuição dos dados nas features. "
      ]
    },
    {
      "cell_type": "code",
      "metadata": {
        "id": "xsvSiG3Y8lvF",
        "colab": {
          "base_uri": "https://localhost:8080/",
          "height": 317
        },
        "outputId": "42d73c6b-8793-4541-8c68-9c07d5789842"
      },
      "source": [
        "# imprimir resumo estatístico dos dados numéricos \n",
        "\n",
        "df.describe()"
      ],
      "execution_count": 27,
      "outputs": [
        {
          "output_type": "execute_result",
          "data": {
            "text/html": [
              "<div>\n",
              "<style scoped>\n",
              "    .dataframe tbody tr th:only-of-type {\n",
              "        vertical-align: middle;\n",
              "    }\n",
              "\n",
              "    .dataframe tbody tr th {\n",
              "        vertical-align: top;\n",
              "    }\n",
              "\n",
              "    .dataframe thead th {\n",
              "        text-align: right;\n",
              "    }\n",
              "</style>\n",
              "<table border=\"1\" class=\"dataframe\">\n",
              "  <thead>\n",
              "    <tr style=\"text-align: right;\">\n",
              "      <th></th>\n",
              "      <th>score_3</th>\n",
              "      <th>score_4</th>\n",
              "      <th>score_5</th>\n",
              "      <th>score_6</th>\n",
              "      <th>risk_rate</th>\n",
              "      <th>last_amount_borrowed</th>\n",
              "      <th>last_borrowed_in_months</th>\n",
              "      <th>credit_limit</th>\n",
              "      <th>income</th>\n",
              "      <th>ok_since</th>\n",
              "      <th>n_bankruptcies</th>\n",
              "      <th>n_defaulted_loans</th>\n",
              "      <th>n_accounts</th>\n",
              "      <th>n_issues</th>\n",
              "      <th>application_time_in_funnel</th>\n",
              "      <th>external_data_provider_credit_checks_last_2_year</th>\n",
              "      <th>external_data_provider_credit_checks_last_month</th>\n",
              "      <th>external_data_provider_credit_checks_last_year</th>\n",
              "      <th>external_data_provider_email_seen_before</th>\n",
              "      <th>external_data_provider_fraud_score</th>\n",
              "      <th>reported_income</th>\n",
              "      <th>shipping_zip_code</th>\n",
              "    </tr>\n",
              "  </thead>\n",
              "  <tbody>\n",
              "    <tr>\n",
              "      <th>count</th>\n",
              "      <td>44438.000000</td>\n",
              "      <td>45000.000000</td>\n",
              "      <td>45000.000000</td>\n",
              "      <td>45000.000000</td>\n",
              "      <td>44438.000000</td>\n",
              "      <td>15044.000000</td>\n",
              "      <td>15044.000000</td>\n",
              "      <td>31200.000000</td>\n",
              "      <td>4.443800e+04</td>\n",
              "      <td>18455.000000</td>\n",
              "      <td>44303.000000</td>\n",
              "      <td>44426.000000</td>\n",
              "      <td>44438.000000</td>\n",
              "      <td>33456.000000</td>\n",
              "      <td>45000.000000</td>\n",
              "      <td>22372.0</td>\n",
              "      <td>45000.000000</td>\n",
              "      <td>29876.000000</td>\n",
              "      <td>42767.000000</td>\n",
              "      <td>45000.000000</td>\n",
              "      <td>45000.00</td>\n",
              "      <td>45000.000000</td>\n",
              "    </tr>\n",
              "    <tr>\n",
              "      <th>mean</th>\n",
              "      <td>347.983258</td>\n",
              "      <td>100.006797</td>\n",
              "      <td>0.500037</td>\n",
              "      <td>99.925228</td>\n",
              "      <td>0.296717</td>\n",
              "      <td>13782.341991</td>\n",
              "      <td>41.763893</td>\n",
              "      <td>34381.951154</td>\n",
              "      <td>7.160739e+04</td>\n",
              "      <td>35.069737</td>\n",
              "      <td>0.076270</td>\n",
              "      <td>0.004569</td>\n",
              "      <td>10.696701</td>\n",
              "      <td>11.068119</td>\n",
              "      <td>247.537000</td>\n",
              "      <td>0.0</td>\n",
              "      <td>1.501067</td>\n",
              "      <td>0.503381</td>\n",
              "      <td>12.534781</td>\n",
              "      <td>500.399800</td>\n",
              "      <td>inf</td>\n",
              "      <td>33923.514844</td>\n",
              "    </tr>\n",
              "    <tr>\n",
              "      <th>std</th>\n",
              "      <td>110.429165</td>\n",
              "      <td>3.178080</td>\n",
              "      <td>0.288326</td>\n",
              "      <td>10.016549</td>\n",
              "      <td>0.101933</td>\n",
              "      <td>8077.571933</td>\n",
              "      <td>10.252705</td>\n",
              "      <td>36586.982218</td>\n",
              "      <td>5.185897e+04</td>\n",
              "      <td>21.663194</td>\n",
              "      <td>0.274052</td>\n",
              "      <td>0.079400</td>\n",
              "      <td>4.592463</td>\n",
              "      <td>4.595501</td>\n",
              "      <td>146.118398</td>\n",
              "      <td>0.0</td>\n",
              "      <td>1.114941</td>\n",
              "      <td>0.499997</td>\n",
              "      <td>126.530487</td>\n",
              "      <td>287.968873</td>\n",
              "      <td>NaN</td>\n",
              "      <td>12692.406382</td>\n",
              "    </tr>\n",
              "    <tr>\n",
              "      <th>min</th>\n",
              "      <td>0.000000</td>\n",
              "      <td>86.191572</td>\n",
              "      <td>0.000035</td>\n",
              "      <td>60.663039</td>\n",
              "      <td>0.000000</td>\n",
              "      <td>1005.180000</td>\n",
              "      <td>36.000000</td>\n",
              "      <td>0.000000</td>\n",
              "      <td>4.821180e+03</td>\n",
              "      <td>0.000000</td>\n",
              "      <td>0.000000</td>\n",
              "      <td>0.000000</td>\n",
              "      <td>0.000000</td>\n",
              "      <td>0.000000</td>\n",
              "      <td>0.000000</td>\n",
              "      <td>0.0</td>\n",
              "      <td>0.000000</td>\n",
              "      <td>0.000000</td>\n",
              "      <td>-999.000000</td>\n",
              "      <td>0.000000</td>\n",
              "      <td>403.00</td>\n",
              "      <td>12001.000000</td>\n",
              "    </tr>\n",
              "    <tr>\n",
              "      <th>25%</th>\n",
              "      <td>270.000000</td>\n",
              "      <td>97.867036</td>\n",
              "      <td>0.252150</td>\n",
              "      <td>93.198353</td>\n",
              "      <td>0.220000</td>\n",
              "      <td>7519.502500</td>\n",
              "      <td>36.000000</td>\n",
              "      <td>10000.000000</td>\n",
              "      <td>4.501078e+04</td>\n",
              "      <td>17.000000</td>\n",
              "      <td>0.000000</td>\n",
              "      <td>0.000000</td>\n",
              "      <td>7.000000</td>\n",
              "      <td>8.000000</td>\n",
              "      <td>120.000000</td>\n",
              "      <td>0.0</td>\n",
              "      <td>1.000000</td>\n",
              "      <td>0.000000</td>\n",
              "      <td>11.000000</td>\n",
              "      <td>252.000000</td>\n",
              "      <td>50948.25</td>\n",
              "      <td>22937.000000</td>\n",
              "    </tr>\n",
              "    <tr>\n",
              "      <th>50%</th>\n",
              "      <td>340.000000</td>\n",
              "      <td>100.018900</td>\n",
              "      <td>0.500753</td>\n",
              "      <td>99.974796</td>\n",
              "      <td>0.290000</td>\n",
              "      <td>12023.465000</td>\n",
              "      <td>36.000000</td>\n",
              "      <td>25647.000000</td>\n",
              "      <td>6.126676e+04</td>\n",
              "      <td>32.000000</td>\n",
              "      <td>0.000000</td>\n",
              "      <td>0.000000</td>\n",
              "      <td>10.000000</td>\n",
              "      <td>10.000000</td>\n",
              "      <td>248.000000</td>\n",
              "      <td>0.0</td>\n",
              "      <td>2.000000</td>\n",
              "      <td>1.000000</td>\n",
              "      <td>27.000000</td>\n",
              "      <td>503.000000</td>\n",
              "      <td>101779.00</td>\n",
              "      <td>33896.000000</td>\n",
              "    </tr>\n",
              "    <tr>\n",
              "      <th>75%</th>\n",
              "      <td>420.000000</td>\n",
              "      <td>102.141797</td>\n",
              "      <td>0.748816</td>\n",
              "      <td>106.640275</td>\n",
              "      <td>0.360000</td>\n",
              "      <td>19220.270000</td>\n",
              "      <td>36.000000</td>\n",
              "      <td>47086.750000</td>\n",
              "      <td>8.601923e+04</td>\n",
              "      <td>50.000000</td>\n",
              "      <td>0.000000</td>\n",
              "      <td>0.000000</td>\n",
              "      <td>13.000000</td>\n",
              "      <td>14.000000</td>\n",
              "      <td>375.000000</td>\n",
              "      <td>0.0</td>\n",
              "      <td>2.000000</td>\n",
              "      <td>1.000000</td>\n",
              "      <td>43.000000</td>\n",
              "      <td>747.000000</td>\n",
              "      <td>151337.25</td>\n",
              "      <td>44910.000000</td>\n",
              "    </tr>\n",
              "    <tr>\n",
              "      <th>max</th>\n",
              "      <td>990.000000</td>\n",
              "      <td>113.978234</td>\n",
              "      <td>0.999973</td>\n",
              "      <td>142.192400</td>\n",
              "      <td>0.900000</td>\n",
              "      <td>35059.600000</td>\n",
              "      <td>60.000000</td>\n",
              "      <td>448269.000000</td>\n",
              "      <td>5.000028e+06</td>\n",
              "      <td>141.000000</td>\n",
              "      <td>5.000000</td>\n",
              "      <td>5.000000</td>\n",
              "      <td>49.000000</td>\n",
              "      <td>49.000000</td>\n",
              "      <td>500.000000</td>\n",
              "      <td>0.0</td>\n",
              "      <td>3.000000</td>\n",
              "      <td>1.000000</td>\n",
              "      <td>59.000000</td>\n",
              "      <td>1000.000000</td>\n",
              "      <td>inf</td>\n",
              "      <td>56000.000000</td>\n",
              "    </tr>\n",
              "  </tbody>\n",
              "</table>\n",
              "</div>"
            ],
            "text/plain": [
              "            score_3       score_4  ...  reported_income  shipping_zip_code\n",
              "count  44438.000000  45000.000000  ...         45000.00       45000.000000\n",
              "mean     347.983258    100.006797  ...              inf       33923.514844\n",
              "std      110.429165      3.178080  ...              NaN       12692.406382\n",
              "min        0.000000     86.191572  ...           403.00       12001.000000\n",
              "25%      270.000000     97.867036  ...         50948.25       22937.000000\n",
              "50%      340.000000    100.018900  ...        101779.00       33896.000000\n",
              "75%      420.000000    102.141797  ...        151337.25       44910.000000\n",
              "max      990.000000    113.978234  ...              inf       56000.000000\n",
              "\n",
              "[8 rows x 22 columns]"
            ]
          },
          "metadata": {
            "tags": []
          },
          "execution_count": 27
        }
      ]
    },
    {
      "cell_type": "markdown",
      "metadata": {
        "id": "dx4ea9iN9T1j"
      },
      "source": [
        "Podemos observar que: \n",
        "\n",
        "A coluna external_data_provider_credit_checks_last_2_year possui valores mínimos, máximos e desvio-padrão iguais a zero.\n",
        "\n",
        "A feature reported_income apresenta valores dados como \"inf\", que irão interferir na análise e modelo. Portanto, serão substituidos por np.nan para trabalhar com os dados.\n",
        "\n",
        "A coluna external_data_provider_email_seen_before apresenta o valor mínimo de -999, o que não faz sentido ao se considerar as outras informações. Assim, pode ser que estes dados são outliers ou então, foram tratados inadequadamente. Substituiremos os valores iguais a -999 por np.nan.\n",
        "\n"
      ]
    },
    {
      "cell_type": "code",
      "metadata": {
        "id": "fkLWEWnI9xNX",
        "colab": {
          "base_uri": "https://localhost:8080/",
          "height": 943
        },
        "outputId": "d0d246bf-8a52-4465-ee80-92cf62453572"
      },
      "source": [
        "# Identificando dados ausentes em cada feature (calculei e depois criei um dataframe com o que foi calculado, depois coloquei esse dataframe com o formato de porcentagem)\n",
        " \n",
        "n=(df.isnull().sum()/df.shape[0]).sort_values(ascending=False)\n",
        "df_n = pd.DataFrame(n)\n",
        "df_n.style.format(\" {:.2%}\")\n"
      ],
      "execution_count": 28,
      "outputs": [
        {
          "output_type": "execute_result",
          "data": {
            "text/html": [
              "<style  type=\"text/css\" >\n",
              "</style><table id=\"T_94cf75c0_3c05_11eb_bb3a_0242ac1c0002\" ><thead>    <tr>        <th class=\"blank level0\" ></th>        <th class=\"col_heading level0 col0\" >0</th>    </tr></thead><tbody>\n",
              "                <tr>\n",
              "                        <th id=\"T_94cf75c0_3c05_11eb_bb3a_0242ac1c0002level0_row0\" class=\"row_heading level0 row0\" >target_fraud</th>\n",
              "                        <td id=\"T_94cf75c0_3c05_11eb_bb3a_0242ac1c0002row0_col0\" class=\"data row0 col0\" > 96.62%</td>\n",
              "            </tr>\n",
              "            <tr>\n",
              "                        <th id=\"T_94cf75c0_3c05_11eb_bb3a_0242ac1c0002level0_row1\" class=\"row_heading level0 row1\" >last_amount_borrowed</th>\n",
              "                        <td id=\"T_94cf75c0_3c05_11eb_bb3a_0242ac1c0002row1_col0\" class=\"data row1 col0\" > 66.57%</td>\n",
              "            </tr>\n",
              "            <tr>\n",
              "                        <th id=\"T_94cf75c0_3c05_11eb_bb3a_0242ac1c0002level0_row2\" class=\"row_heading level0 row2\" >last_borrowed_in_months</th>\n",
              "                        <td id=\"T_94cf75c0_3c05_11eb_bb3a_0242ac1c0002row2_col0\" class=\"data row2 col0\" > 66.57%</td>\n",
              "            </tr>\n",
              "            <tr>\n",
              "                        <th id=\"T_94cf75c0_3c05_11eb_bb3a_0242ac1c0002level0_row3\" class=\"row_heading level0 row3\" >ok_since</th>\n",
              "                        <td id=\"T_94cf75c0_3c05_11eb_bb3a_0242ac1c0002row3_col0\" class=\"data row3 col0\" > 58.99%</td>\n",
              "            </tr>\n",
              "            <tr>\n",
              "                        <th id=\"T_94cf75c0_3c05_11eb_bb3a_0242ac1c0002level0_row4\" class=\"row_heading level0 row4\" >external_data_provider_credit_checks_last_2_year</th>\n",
              "                        <td id=\"T_94cf75c0_3c05_11eb_bb3a_0242ac1c0002row4_col0\" class=\"data row4 col0\" > 50.28%</td>\n",
              "            </tr>\n",
              "            <tr>\n",
              "                        <th id=\"T_94cf75c0_3c05_11eb_bb3a_0242ac1c0002level0_row5\" class=\"row_heading level0 row5\" >external_data_provider_credit_checks_last_year</th>\n",
              "                        <td id=\"T_94cf75c0_3c05_11eb_bb3a_0242ac1c0002row5_col0\" class=\"data row5 col0\" > 33.61%</td>\n",
              "            </tr>\n",
              "            <tr>\n",
              "                        <th id=\"T_94cf75c0_3c05_11eb_bb3a_0242ac1c0002level0_row6\" class=\"row_heading level0 row6\" >credit_limit</th>\n",
              "                        <td id=\"T_94cf75c0_3c05_11eb_bb3a_0242ac1c0002row6_col0\" class=\"data row6 col0\" > 30.67%</td>\n",
              "            </tr>\n",
              "            <tr>\n",
              "                        <th id=\"T_94cf75c0_3c05_11eb_bb3a_0242ac1c0002level0_row7\" class=\"row_heading level0 row7\" >n_issues</th>\n",
              "                        <td id=\"T_94cf75c0_3c05_11eb_bb3a_0242ac1c0002row7_col0\" class=\"data row7 col0\" > 25.65%</td>\n",
              "            </tr>\n",
              "            <tr>\n",
              "                        <th id=\"T_94cf75c0_3c05_11eb_bb3a_0242ac1c0002level0_row8\" class=\"row_heading level0 row8\" >facebook_profile</th>\n",
              "                        <td id=\"T_94cf75c0_3c05_11eb_bb3a_0242ac1c0002row8_col0\" class=\"data row8 col0\" > 9.91%</td>\n",
              "            </tr>\n",
              "            <tr>\n",
              "                        <th id=\"T_94cf75c0_3c05_11eb_bb3a_0242ac1c0002level0_row9\" class=\"row_heading level0 row9\" >marketing_channel</th>\n",
              "                        <td id=\"T_94cf75c0_3c05_11eb_bb3a_0242ac1c0002row9_col0\" class=\"data row9 col0\" > 7.95%</td>\n",
              "            </tr>\n",
              "            <tr>\n",
              "                        <th id=\"T_94cf75c0_3c05_11eb_bb3a_0242ac1c0002level0_row10\" class=\"row_heading level0 row10\" >job_name</th>\n",
              "                        <td id=\"T_94cf75c0_3c05_11eb_bb3a_0242ac1c0002row10_col0\" class=\"data row10 col0\" > 7.41%</td>\n",
              "            </tr>\n",
              "            <tr>\n",
              "                        <th id=\"T_94cf75c0_3c05_11eb_bb3a_0242ac1c0002level0_row11\" class=\"row_heading level0 row11\" >target_default</th>\n",
              "                        <td id=\"T_94cf75c0_3c05_11eb_bb3a_0242ac1c0002row11_col0\" class=\"data row11 col0\" > 7.24%</td>\n",
              "            </tr>\n",
              "            <tr>\n",
              "                        <th id=\"T_94cf75c0_3c05_11eb_bb3a_0242ac1c0002level0_row12\" class=\"row_heading level0 row12\" >external_data_provider_email_seen_before</th>\n",
              "                        <td id=\"T_94cf75c0_3c05_11eb_bb3a_0242ac1c0002row12_col0\" class=\"data row12 col0\" > 4.96%</td>\n",
              "            </tr>\n",
              "            <tr>\n",
              "                        <th id=\"T_94cf75c0_3c05_11eb_bb3a_0242ac1c0002level0_row13\" class=\"row_heading level0 row13\" >lat_lon</th>\n",
              "                        <td id=\"T_94cf75c0_3c05_11eb_bb3a_0242ac1c0002row13_col0\" class=\"data row13 col0\" > 3.03%</td>\n",
              "            </tr>\n",
              "            <tr>\n",
              "                        <th id=\"T_94cf75c0_3c05_11eb_bb3a_0242ac1c0002level0_row14\" class=\"row_heading level0 row14\" >user_agent</th>\n",
              "                        <td id=\"T_94cf75c0_3c05_11eb_bb3a_0242ac1c0002row14_col0\" class=\"data row14 col0\" > 1.60%</td>\n",
              "            </tr>\n",
              "            <tr>\n",
              "                        <th id=\"T_94cf75c0_3c05_11eb_bb3a_0242ac1c0002level0_row15\" class=\"row_heading level0 row15\" >n_bankruptcies</th>\n",
              "                        <td id=\"T_94cf75c0_3c05_11eb_bb3a_0242ac1c0002row15_col0\" class=\"data row15 col0\" > 1.55%</td>\n",
              "            </tr>\n",
              "            <tr>\n",
              "                        <th id=\"T_94cf75c0_3c05_11eb_bb3a_0242ac1c0002level0_row16\" class=\"row_heading level0 row16\" >n_defaulted_loans</th>\n",
              "                        <td id=\"T_94cf75c0_3c05_11eb_bb3a_0242ac1c0002row16_col0\" class=\"data row16 col0\" > 1.28%</td>\n",
              "            </tr>\n",
              "            <tr>\n",
              "                        <th id=\"T_94cf75c0_3c05_11eb_bb3a_0242ac1c0002level0_row17\" class=\"row_heading level0 row17\" >reason</th>\n",
              "                        <td id=\"T_94cf75c0_3c05_11eb_bb3a_0242ac1c0002row17_col0\" class=\"data row17 col0\" > 1.26%</td>\n",
              "            </tr>\n",
              "            <tr>\n",
              "                        <th id=\"T_94cf75c0_3c05_11eb_bb3a_0242ac1c0002level0_row18\" class=\"row_heading level0 row18\" >income</th>\n",
              "                        <td id=\"T_94cf75c0_3c05_11eb_bb3a_0242ac1c0002row18_col0\" class=\"data row18 col0\" > 1.25%</td>\n",
              "            </tr>\n",
              "            <tr>\n",
              "                        <th id=\"T_94cf75c0_3c05_11eb_bb3a_0242ac1c0002level0_row19\" class=\"row_heading level0 row19\" >real_state</th>\n",
              "                        <td id=\"T_94cf75c0_3c05_11eb_bb3a_0242ac1c0002row19_col0\" class=\"data row19 col0\" > 1.25%</td>\n",
              "            </tr>\n",
              "            <tr>\n",
              "                        <th id=\"T_94cf75c0_3c05_11eb_bb3a_0242ac1c0002level0_row20\" class=\"row_heading level0 row20\" >state</th>\n",
              "                        <td id=\"T_94cf75c0_3c05_11eb_bb3a_0242ac1c0002row20_col0\" class=\"data row20 col0\" > 1.25%</td>\n",
              "            </tr>\n",
              "            <tr>\n",
              "                        <th id=\"T_94cf75c0_3c05_11eb_bb3a_0242ac1c0002level0_row21\" class=\"row_heading level0 row21\" >zip</th>\n",
              "                        <td id=\"T_94cf75c0_3c05_11eb_bb3a_0242ac1c0002row21_col0\" class=\"data row21 col0\" > 1.25%</td>\n",
              "            </tr>\n",
              "            <tr>\n",
              "                        <th id=\"T_94cf75c0_3c05_11eb_bb3a_0242ac1c0002level0_row22\" class=\"row_heading level0 row22\" >channel</th>\n",
              "                        <td id=\"T_94cf75c0_3c05_11eb_bb3a_0242ac1c0002row22_col0\" class=\"data row22 col0\" > 1.25%</td>\n",
              "            </tr>\n",
              "            <tr>\n",
              "                        <th id=\"T_94cf75c0_3c05_11eb_bb3a_0242ac1c0002level0_row23\" class=\"row_heading level0 row23\" >score_3</th>\n",
              "                        <td id=\"T_94cf75c0_3c05_11eb_bb3a_0242ac1c0002row23_col0\" class=\"data row23 col0\" > 1.25%</td>\n",
              "            </tr>\n",
              "            <tr>\n",
              "                        <th id=\"T_94cf75c0_3c05_11eb_bb3a_0242ac1c0002level0_row24\" class=\"row_heading level0 row24\" >score_2</th>\n",
              "                        <td id=\"T_94cf75c0_3c05_11eb_bb3a_0242ac1c0002row24_col0\" class=\"data row24 col0\" > 1.25%</td>\n",
              "            </tr>\n",
              "            <tr>\n",
              "                        <th id=\"T_94cf75c0_3c05_11eb_bb3a_0242ac1c0002level0_row25\" class=\"row_heading level0 row25\" >score_1</th>\n",
              "                        <td id=\"T_94cf75c0_3c05_11eb_bb3a_0242ac1c0002row25_col0\" class=\"data row25 col0\" > 1.25%</td>\n",
              "            </tr>\n",
              "            <tr>\n",
              "                        <th id=\"T_94cf75c0_3c05_11eb_bb3a_0242ac1c0002level0_row26\" class=\"row_heading level0 row26\" >n_accounts</th>\n",
              "                        <td id=\"T_94cf75c0_3c05_11eb_bb3a_0242ac1c0002row26_col0\" class=\"data row26 col0\" > 1.25%</td>\n",
              "            </tr>\n",
              "            <tr>\n",
              "                        <th id=\"T_94cf75c0_3c05_11eb_bb3a_0242ac1c0002level0_row27\" class=\"row_heading level0 row27\" >risk_rate</th>\n",
              "                        <td id=\"T_94cf75c0_3c05_11eb_bb3a_0242ac1c0002row27_col0\" class=\"data row27 col0\" > 1.25%</td>\n",
              "            </tr>\n",
              "            <tr>\n",
              "                        <th id=\"T_94cf75c0_3c05_11eb_bb3a_0242ac1c0002level0_row28\" class=\"row_heading level0 row28\" >shipping_zip_code</th>\n",
              "                        <td id=\"T_94cf75c0_3c05_11eb_bb3a_0242ac1c0002row28_col0\" class=\"data row28 col0\" > 0.00%</td>\n",
              "            </tr>\n",
              "            <tr>\n",
              "                        <th id=\"T_94cf75c0_3c05_11eb_bb3a_0242ac1c0002level0_row29\" class=\"row_heading level0 row29\" >score_4</th>\n",
              "                        <td id=\"T_94cf75c0_3c05_11eb_bb3a_0242ac1c0002row29_col0\" class=\"data row29 col0\" > 0.00%</td>\n",
              "            </tr>\n",
              "            <tr>\n",
              "                        <th id=\"T_94cf75c0_3c05_11eb_bb3a_0242ac1c0002level0_row30\" class=\"row_heading level0 row30\" >score_5</th>\n",
              "                        <td id=\"T_94cf75c0_3c05_11eb_bb3a_0242ac1c0002row30_col0\" class=\"data row30 col0\" > 0.00%</td>\n",
              "            </tr>\n",
              "            <tr>\n",
              "                        <th id=\"T_94cf75c0_3c05_11eb_bb3a_0242ac1c0002level0_row31\" class=\"row_heading level0 row31\" >profile_tags</th>\n",
              "                        <td id=\"T_94cf75c0_3c05_11eb_bb3a_0242ac1c0002row31_col0\" class=\"data row31 col0\" > 0.00%</td>\n",
              "            </tr>\n",
              "            <tr>\n",
              "                        <th id=\"T_94cf75c0_3c05_11eb_bb3a_0242ac1c0002level0_row32\" class=\"row_heading level0 row32\" >score_6</th>\n",
              "                        <td id=\"T_94cf75c0_3c05_11eb_bb3a_0242ac1c0002row32_col0\" class=\"data row32 col0\" > 0.00%</td>\n",
              "            </tr>\n",
              "            <tr>\n",
              "                        <th id=\"T_94cf75c0_3c05_11eb_bb3a_0242ac1c0002level0_row33\" class=\"row_heading level0 row33\" >application_time_in_funnel</th>\n",
              "                        <td id=\"T_94cf75c0_3c05_11eb_bb3a_0242ac1c0002row33_col0\" class=\"data row33 col0\" > 0.00%</td>\n",
              "            </tr>\n",
              "            <tr>\n",
              "                        <th id=\"T_94cf75c0_3c05_11eb_bb3a_0242ac1c0002level0_row34\" class=\"row_heading level0 row34\" >shipping_state</th>\n",
              "                        <td id=\"T_94cf75c0_3c05_11eb_bb3a_0242ac1c0002row34_col0\" class=\"data row34 col0\" > 0.00%</td>\n",
              "            </tr>\n",
              "            <tr>\n",
              "                        <th id=\"T_94cf75c0_3c05_11eb_bb3a_0242ac1c0002level0_row35\" class=\"row_heading level0 row35\" >reported_income</th>\n",
              "                        <td id=\"T_94cf75c0_3c05_11eb_bb3a_0242ac1c0002row35_col0\" class=\"data row35 col0\" > 0.00%</td>\n",
              "            </tr>\n",
              "            <tr>\n",
              "                        <th id=\"T_94cf75c0_3c05_11eb_bb3a_0242ac1c0002level0_row36\" class=\"row_heading level0 row36\" >application_time_applied</th>\n",
              "                        <td id=\"T_94cf75c0_3c05_11eb_bb3a_0242ac1c0002row36_col0\" class=\"data row36 col0\" > 0.00%</td>\n",
              "            </tr>\n",
              "            <tr>\n",
              "                        <th id=\"T_94cf75c0_3c05_11eb_bb3a_0242ac1c0002level0_row37\" class=\"row_heading level0 row37\" >profile_phone_number</th>\n",
              "                        <td id=\"T_94cf75c0_3c05_11eb_bb3a_0242ac1c0002row37_col0\" class=\"data row37 col0\" > 0.00%</td>\n",
              "            </tr>\n",
              "            <tr>\n",
              "                        <th id=\"T_94cf75c0_3c05_11eb_bb3a_0242ac1c0002level0_row38\" class=\"row_heading level0 row38\" >external_data_provider_fraud_score</th>\n",
              "                        <td id=\"T_94cf75c0_3c05_11eb_bb3a_0242ac1c0002row38_col0\" class=\"data row38 col0\" > 0.00%</td>\n",
              "            </tr>\n",
              "            <tr>\n",
              "                        <th id=\"T_94cf75c0_3c05_11eb_bb3a_0242ac1c0002level0_row39\" class=\"row_heading level0 row39\" >external_data_provider_first_name</th>\n",
              "                        <td id=\"T_94cf75c0_3c05_11eb_bb3a_0242ac1c0002row39_col0\" class=\"data row39 col0\" > 0.00%</td>\n",
              "            </tr>\n",
              "            <tr>\n",
              "                        <th id=\"T_94cf75c0_3c05_11eb_bb3a_0242ac1c0002level0_row40\" class=\"row_heading level0 row40\" >external_data_provider_credit_checks_last_month</th>\n",
              "                        <td id=\"T_94cf75c0_3c05_11eb_bb3a_0242ac1c0002row40_col0\" class=\"data row40 col0\" > 0.00%</td>\n",
              "            </tr>\n",
              "            <tr>\n",
              "                        <th id=\"T_94cf75c0_3c05_11eb_bb3a_0242ac1c0002level0_row41\" class=\"row_heading level0 row41\" >email</th>\n",
              "                        <td id=\"T_94cf75c0_3c05_11eb_bb3a_0242ac1c0002row41_col0\" class=\"data row41 col0\" > 0.00%</td>\n",
              "            </tr>\n",
              "            <tr>\n",
              "                        <th id=\"T_94cf75c0_3c05_11eb_bb3a_0242ac1c0002level0_row42\" class=\"row_heading level0 row42\" >ids</th>\n",
              "                        <td id=\"T_94cf75c0_3c05_11eb_bb3a_0242ac1c0002row42_col0\" class=\"data row42 col0\" > 0.00%</td>\n",
              "            </tr>\n",
              "    </tbody></table>"
            ],
            "text/plain": [
              "<pandas.io.formats.style.Styler at 0x7fac0c856a58>"
            ]
          },
          "metadata": {
            "tags": []
          },
          "execution_count": 28
        }
      ]
    },
    {
      "cell_type": "markdown",
      "metadata": {
        "id": "i_vUIKxG_wwC"
      },
      "source": [
        "Ou seja, algumas variáveis apresentam muitos valores ausentes, como é o caso de target_fraud, last_amount_borrowed, last_borrowed_in_months, ok_since, external_data_provider_credit_checks_last_2_year as quais apresentam mais da metade de seus dados, ausentes. Isto é preocupante se estas features forem importantes para a análise. Logo em seguida em porcentagem estão as variáveis external_data_provider_credit_checks_last_year, credit_limit, n_issues possuem entre 25-34% do seus valores ausentes.\n",
        "No caso, a variável que possui maior número de valores ausentes que é target_fraud será eliminada do dataset por não influenciar em nossa análise e modelo de risco de inadimplência. Por outro lado, os valores ausentes da variável alvo, que é target_default vão ser eliminados do dataset. "
      ]
    },
    {
      "cell_type": "markdown",
      "metadata": {
        "id": "R6GY8xWgqkHv"
      },
      "source": [
        "Uma outra análise interessante de se fazer diz respeito à contagem de valore únicos por features. Muitas vezes, variáveis numéricas podem esconder classes/categorias que melhor representariam uma feature, ou revelar uma quantidade elevada de classes para  \"variáveis categóricas\"."
      ]
    },
    {
      "cell_type": "code",
      "metadata": {
        "id": "P5bMfWc1AyP7",
        "colab": {
          "base_uri": "https://localhost:8080/"
        },
        "outputId": "5e247ffc-251e-43d8-d802-5ec52c6268ac"
      },
      "source": [
        "# valores únicos\n",
        "print(\"\\nValores Únicos:\")\n",
        "print(df.nunique().sort_values())"
      ],
      "execution_count": 29,
      "outputs": [
        {
          "output_type": "stream",
          "text": [
            "\n",
            "Valores Únicos:\n",
            "external_data_provider_credit_checks_last_2_year        1\n",
            "channel                                                 1\n",
            "target_fraud                                            2\n",
            "target_default                                          2\n",
            "external_data_provider_credit_checks_last_year          2\n",
            "facebook_profile                                        2\n",
            "last_borrowed_in_months                                 2\n",
            "external_data_provider_credit_checks_last_month         4\n",
            "n_defaulted_loans                                       5\n",
            "real_state                                              5\n",
            "email                                                   6\n",
            "n_bankruptcies                                          6\n",
            "score_1                                                 7\n",
            "marketing_channel                                       9\n",
            "shipping_state                                         25\n",
            "score_2                                                35\n",
            "n_issues                                               44\n",
            "n_accounts                                             44\n",
            "state                                                  50\n",
            "external_data_provider_email_seen_before               62\n",
            "risk_rate                                              82\n",
            "score_3                                                88\n",
            "ok_since                                              100\n",
            "user_agent                                            297\n",
            "application_time_in_funnel                            501\n",
            "zip                                                   823\n",
            "external_data_provider_fraud_score                   1001\n",
            "last_amount_borrowed                                14325\n",
            "reason                                              14874\n",
            "credit_limit                                        20928\n",
            "lat_lon                                             22412\n",
            "profile_tags                                        26131\n",
            "shipping_zip_code                                   28263\n",
            "job_name                                            32265\n",
            "external_data_provider_first_name                   32886\n",
            "application_time_applied                            35543\n",
            "reported_income                                     40025\n",
            "income                                              41211\n",
            "score_4                                             45000\n",
            "score_5                                             45000\n",
            "score_6                                             45000\n",
            "profile_phone_number                                45000\n",
            "ids                                                 45000\n",
            "dtype: int64\n"
          ],
          "name": "stdout"
        }
      ]
    },
    {
      "cell_type": "markdown",
      "metadata": {
        "id": "QlEvgF7zBWbI"
      },
      "source": [
        "A contagem de valores únicos mostra que as colunas external_data_provider_credit_checks_last_2_year e channel apresentam um único valor possível. Como não ha maiores informações sobre cada feature iremos descartar as duas colunas para o modelo de Machine Learning.\n",
        "\n",
        "Também se percebe que profile_phone_number possui 45 mil valores únicos, não trazendo provavelmente nenhuma informação que possa contribuir para a análise.\n"
      ]
    },
    {
      "cell_type": "markdown",
      "metadata": {
        "id": "TRRXJoiWrv8x"
      },
      "source": [
        "Como já mencionado, a feature target_default traz infomações de inadimplentes e está representada pelas classes True e False. É importante para treinar o modelo analisar qual é a proporção destas classes para que se tiver desbalanceamento, tratar depois. "
      ]
    },
    {
      "cell_type": "code",
      "metadata": {
        "id": "UmyVgu2pBeFr",
        "colab": {
          "base_uri": "https://localhost:8080/",
          "height": 363
        },
        "outputId": "cc3a2fc0-ca3a-4399-ed91-e512261ac327"
      },
      "source": [
        "# Proporção entre Inadimplentes no Dataset\n",
        "\n",
        "fig, ax = plt.subplots()\n",
        "sns.countplot('target_default', data=df, ax=ax)\n",
        "ax.set_title(\"Inadimplentes\")\n",
        "ax.set_xlabel(\"Valor\")\n",
        "ax.set_ylabel(\"Contagem\")\n",
        "plt.show()\n",
        "\n",
        "print(\"Proporção entre Inadimplentes no Dataset:\")\n",
        "print(df['target_default'].value_counts() / df.shape[0])"
      ],
      "execution_count": 30,
      "outputs": [
        {
          "output_type": "display_data",
          "data": {
            "image/png": "[encoded data removed]",
            "text/plain": [
              "<Figure size 432x288 with 1 Axes>"
            ]
          },
          "metadata": {
            "tags": [],
            "needs_background": "light"
          }
        },
        {
          "output_type": "stream",
          "text": [
            "Proporção entre Inadimplentes no Dataset:\n",
            "False    0.779556\n",
            "True     0.148022\n",
            "Name: target_default, dtype: float64\n"
          ],
          "name": "stdout"
        }
      ]
    },
    {
      "cell_type": "markdown",
      "metadata": {
        "id": "zXoqAe3VsoZU"
      },
      "source": [
        "Aqui verificamos que a proporção de False (77%)  é bem maior que a de True (14%). "
      ]
    },
    {
      "cell_type": "markdown",
      "metadata": {
        "id": "ARoBSUd3CY91"
      },
      "source": [
        "### Preparação dos dados para treinar o modelo"
      ]
    },
    {
      "cell_type": "markdown",
      "metadata": {
        "id": "j7p-culxtGz7"
      },
      "source": [
        "Com as informações extraidas anteriormente do dataset, seguiremos fazendo etapas dea limpeza e tratamento dos dados a fim de prepará-los para o treinamento do modelo. A seguir, algumas destas etapas: "
      ]
    },
    {
      "cell_type": "code",
      "metadata": {
        "id": "GgPs8_RNCbpw"
      },
      "source": [
        "df_clean = df.copy()\n",
        "\n",
        "# substituir inf por nan em reported_income \n",
        "\n",
        "df_clean['reported_income'] = df_clean['reported_income'].replace(np.inf, np.nan)\n",
        "\n",
        "#descartar as colunas ids, target_fraud, external_data_provider_credit_checks_last2_year e channel\n",
        "df_clean.drop(labels=['ids', 'target_fraud',\n",
        "                      'external_data_provider_credit_checks_last_2_year',\n",
        "                      'channel'], axis=1, inplace=True)\n",
        "\n",
        "# substituir -999 em external_data_provider_email_seen_before por NaN #MAS COMO SABIA QUE TINHA ESSE -999? \n",
        "df_clean.loc[df_clean['external_data_provider_email_seen_before'] == -999.0,\n",
        "             'external_data_provider_email_seen_before'] = np.nan\n",
        "\n",
        "# elminar colunas sem informação aparente ou que demandam mais pesquisa\n",
        "drop_var = ['reason', 'zip', 'job_name', 'external_data_provider_first_name',\n",
        "            'lat_lon', 'shipping_zip_code', 'user_agent', 'profile_tags',\n",
        "            'application_time_applied', 'email', 'marketing_channel',\n",
        "            'profile_phone_number', 'shipping_state']\n",
        "df_clean.drop(labels=drop_var, axis=1, inplace=True) \n",
        "\n",
        "# eliminar as entradas onde target_defaut é NaN\n",
        "df_clean.dropna(subset=['target_default'], inplace=True)"
      ],
      "execution_count": 31,
      "outputs": []
    },
    {
      "cell_type": "markdown",
      "metadata": {
        "id": "J2u218g5f0aq"
      },
      "source": [
        "Apesar de não haver maiores informações sobre as features, podemos assumir como premissa que muitos valores são nulos (NaN) devido à alguns fatores, como:\n",
        "\n",
        "Há alguns itens que não são obrigatórios de serem preenchidos em formulários, valores ausentes nas colunas last_amount_borrowed, last_borrowed_in_months, n_issues vão ser substituidos por zero. \n",
        "\n",
        "Para as variáveis numéricas, serão substituidos pela mediana e na variável categórica será substituido pelo valor mais frequente. \n"
      ]
    },
    {
      "cell_type": "code",
      "metadata": {
        "id": "-Gs9tEwZFZ3t"
      },
      "source": [
        "from sklearn.impute import SimpleImputer\n",
        "\n",
        "num_df = df_clean.select_dtypes(exclude='object').columns\n",
        "cat_df = df_clean.select_dtypes(include='object').columns\n",
        "\n",
        "# substituição de valores ausentes (as que não foram preenchidas, substitui por zero)\n",
        "df_clean.last_amount_borrowed.fillna(value=0, inplace=True)\n",
        "df_clean.last_borrowed_in_months.fillna(value=0, inplace=True)\n",
        "df_clean.n_issues.fillna(value=0, inplace=True)\n",
        "\n",
        "# variáveis numéricas (onde não foi preenchido, será substituido pela mediana)\n",
        "imputer = SimpleImputer(missing_values=np.nan, strategy='median')\n",
        "imputer = imputer.fit(df_clean.loc[:,num_df])\n",
        "df_clean.loc[:,num_df] = imputer.transform(df_clean.loc[:,num_df])\n",
        "\n",
        "# variáveis categóricas\n",
        "imputer = SimpleImputer(missing_values=np.nan, strategy='most_frequent')\n",
        "imputer = imputer.fit(df_clean.loc[:,cat_df])\n",
        "df_clean.loc[:,cat_df] = imputer.transform(df_clean.loc[:,cat_df])"
      ],
      "execution_count": 32,
      "outputs": []
    },
    {
      "cell_type": "markdown",
      "metadata": {
        "id": "VlbY3GWrGeHU"
      },
      "source": [
        "Podemos agora verificar que as variáveis escolhidas não possuem mais os valores nulos iniciais.\n"
      ]
    },
    {
      "cell_type": "code",
      "metadata": {
        "id": "TEoB0ne1GgWk",
        "colab": {
          "base_uri": "https://localhost:8080/"
        },
        "outputId": "1473b4fe-fe9d-446e-a275-d8588eacd826"
      },
      "source": [
        "# verificar a quantidade de dados nulos\n",
        "df_clean.isnull().sum()"
      ],
      "execution_count": 33,
      "outputs": [
        {
          "output_type": "execute_result",
          "data": {
            "text/plain": [
              "target_default                                     0\n",
              "score_1                                            0\n",
              "score_2                                            0\n",
              "score_3                                            0\n",
              "score_4                                            0\n",
              "score_5                                            0\n",
              "score_6                                            0\n",
              "risk_rate                                          0\n",
              "last_amount_borrowed                               0\n",
              "last_borrowed_in_months                            0\n",
              "credit_limit                                       0\n",
              "income                                             0\n",
              "facebook_profile                                   0\n",
              "state                                              0\n",
              "real_state                                         0\n",
              "ok_since                                           0\n",
              "n_bankruptcies                                     0\n",
              "n_defaulted_loans                                  0\n",
              "n_accounts                                         0\n",
              "n_issues                                           0\n",
              "application_time_in_funnel                         0\n",
              "external_data_provider_credit_checks_last_month    0\n",
              "external_data_provider_credit_checks_last_year     0\n",
              "external_data_provider_email_seen_before           0\n",
              "external_data_provider_fraud_score                 0\n",
              "reported_income                                    0\n",
              "dtype: int64"
            ]
          },
          "metadata": {
            "tags": []
          },
          "execution_count": 33
        }
      ]
    },
    {
      "cell_type": "markdown",
      "metadata": {
        "id": "V1kUNYEQGvkx"
      },
      "source": [
        "ou seja, depois da limpeza, não há features que apresente valores nulos. "
      ]
    },
    {
      "cell_type": "markdown",
      "metadata": {
        "id": "sAfEHUsAG3nt"
      },
      "source": [
        "Para melhorar o desempenho do modelo, é necessário padronizar as variáveis numéricas usando StandartScaler. "
      ]
    },
    {
      "cell_type": "code",
      "metadata": {
        "id": "_29kTohrG0fw"
      },
      "source": [
        "# criando uma cópia do df\n",
        "scaled_df = df_clean.copy()\n",
        "\n",
        "# normalizar as colunas numéricas (num_cols)\n",
        "num_cols = scaled_df.drop('target_default',\n",
        "                         axis=1).select_dtypes(exclude='object').columns\n",
        "\n",
        "scaled_df[num_cols] = StandardScaler().fit_transform(scaled_df[num_cols].values)"
      ],
      "execution_count": 34,
      "outputs": []
    },
    {
      "cell_type": "markdown",
      "metadata": {
        "id": "Y3g6Zo8bHSvD"
      },
      "source": [
        "Continuando com a preparação dos dados, será utilizado o Label Encoding para possibilitar que as variáveis categóricas possam ser codificadas em forma de labels e alimentar o modelo de Machine Learning."
      ]
    },
    {
      "cell_type": "code",
      "metadata": {
        "id": "wnU3ulKFHTnZ"
      },
      "source": [
        "# criando uma cópia do df\n",
        "encoded_df = scaled_df.copy()\n",
        "\n",
        "# extrair as colunas categóricas\n",
        "cat_cols = encoded_df.select_dtypes('object').columns\n",
        "\n",
        "# codificar cada coluna categórica\n",
        "for col in cat_cols:\n",
        "  encoded_df[col+'_encoded'] = LabelEncoder().fit_transform(encoded_df[col])\n",
        "  encoded_df.drop(col, axis=1, inplace=True)"
      ],
      "execution_count": 35,
      "outputs": []
    },
    {
      "cell_type": "markdown",
      "metadata": {
        "id": "5Oj1oKFjHaY9"
      },
      "source": [
        "Por fim, irei separar a variável alvo das demais e dividir o dataset entre dados de treino e teste com a função train_test_split."
      ]
    },
    {
      "cell_type": "code",
      "metadata": {
        "id": "5mxjYBOsHc7z"
      },
      "source": [
        "# separar as variáveis independentes da variável alvo\n",
        "X = encoded_df.drop('target_default', axis=1).select_dtypes(exclude='object')\n",
        "y = encoded_df['target_default']\n",
        "\n",
        "# dividir o dataset entre treino e teste\n",
        "X_train, X_test, y_train, y_test = train_test_split(X, y, test_size=0.3)"
      ],
      "execution_count": 36,
      "outputs": []
    },
    {
      "cell_type": "markdown",
      "metadata": {
        "id": "UiXF4bm5izMa"
      },
      "source": [
        "# Construção do modelo "
      ]
    },
    {
      "cell_type": "markdown",
      "metadata": {
        "id": "FGD1dyEC-oZM"
      },
      "source": [
        "O objetivo é comparar a performance de diferentes modelos de Classificação. Desta forma, foi primeiro, criada uma baseline, funciona como uma métrica para estabelecer qual o melhor modelo para aquele problema. Foi escolhido o RandomForestClassifier como baseline, de modo arbitrário e não parametrizado. \n",
        "\n",
        "\n",
        "\n",
        "\n"
      ]
    },
    {
      "cell_type": "markdown",
      "metadata": {
        "id": "v8n8sVV9_s9A"
      },
      "source": [
        "## Métricas e modelos "
      ]
    },
    {
      "cell_type": "markdown",
      "metadata": {
        "id": "3th8QLSFA-zJ"
      },
      "source": [
        "A métrica de avaliação da performance de um modelo deve ser definido de acordo com as estratégias e valores da empresa, por exemplo. No entanto, a acurácia é a métrica mais generalista e mais comumente utilizada para ditar se há ou não uma boa performance do modelo. Outra métrica é o Recall que, por exemplo, prioriza que não haja Falsos Negativos, o que é bastante utilizado em modelos de fraudes em cartão de crétito e em modelos médicos. Explicando de forma bastante simples, é como se fosse preferivel negar um cliente que não traria prejuízo à empresa, do que aceitar um que traga, essa é a premissa do Recall. \n",
        "Caso optemos por otimizar  a partir do Precision, essencialmente afirmando que Falsos Positivos  são importantes na análise e não queremos ter Falsos Negativos. Basicamente, é preferível aceitar clientes que possam trazer prejuízo, do que deixar de aceitar clientes que não trarão. "
      ]
    },
    {
      "cell_type": "code",
      "metadata": {
        "id": "VUdwJOkJJmrn",
        "colab": {
          "base_uri": "https://localhost:8080/"
        },
        "outputId": "7adc390a-fd9f-4135-aa4f-ff7bd8436cbe"
      },
      "source": [
        "# construindo função de avaliação do baseline\n",
        "\n",
        "\n",
        "def val_model(X, y, clf, quite=False):\n",
        "    \"\"\"\n",
        "    Realiza cross-validation com os dados de treino para determinado modelo.\n",
        "\n",
        "    # Arguments\n",
        "        X: DataFrame, contém as variáveis independetes.\n",
        "        y: Series, vetor contendo a variável alvo.\n",
        "        clf: modelo classificador do Scikit-learn.\n",
        "        quite: bool, indicando se a função deve imprimir os resultados ou não.\n",
        "\n",
        "    # Returns\n",
        "        float, média dos scores da cross-validation.\n",
        "    \"\"\"\n",
        "    \n",
        "    X = np.array(X)\n",
        "    y = np.array(y)\n",
        "\n",
        "    pipeline = make_pipeline(StandardScaler(), clf)\n",
        "    scores = cross_val_score(pipeline, X, y, scoring='accuracy')\n",
        "\n",
        "    if quite == False:\n",
        "        print(\"Acurácia: {:.4f} (+/- {:.2f})\".format(scores.mean(), scores.std()))\n",
        "    \n",
        "    return scores.mean()\n",
        "\n",
        "# criar baseline e ver desempenho (porque ele fez x train e y train?? não era teste?)\n",
        "rf = RandomForestClassifier()\n",
        "score_baseline = val_model(X_train, y_train, rf)\n",
        "\n"
      ],
      "execution_count": 37,
      "outputs": [
        {
          "output_type": "stream",
          "text": [
            "Acurácia: 0.8381 (+/- 0.00)\n"
          ],
          "name": "stdout"
        }
      ]
    },
    {
      "cell_type": "markdown",
      "metadata": {
        "id": "0UAwIZ5zLZbm"
      },
      "source": [
        "Esta foi a acurácia da baseline, sem nenhum tuning de hiperparâmetros. A seguir são testados outros modelos: "
      ]
    },
    {
      "cell_type": "markdown",
      "metadata": {
        "id": "ii4cxa4xLqnO"
      },
      "source": [
        "\n",
        "    Random Forest Classifier (Baseline)\n",
        "    Decision Tree Classifier\n",
        "    SGD Classifier\n",
        "    SVC\n",
        "    Logistic Regression\n",
        "    XGB Classifier\n",
        "    LGBM Classifier\n"
      ]
    },
    {
      "cell_type": "code",
      "metadata": {
        "id": "BUBFgh4VLt0O",
        "colab": {
          "base_uri": "https://localhost:8080/",
          "height": 266
        },
        "outputId": "0861f8ef-fb6d-48c6-fa88-c19d284d187c"
      },
      "source": [
        "# instanciar modelos\n",
        "rf = RandomForestClassifier()\n",
        "dt = DecisionTreeClassifier()\n",
        "sgdc = SGDClassifier()\n",
        "svc = SVC()\n",
        "lr = LogisticRegression()\n",
        "xgb = XGBClassifier()\n",
        "lgbm = LGBMClassifier()\n",
        "\n",
        "model = []\n",
        "acc = []\n",
        "# avaliar o desempenho\n",
        "for clf in (rf, dt, sgdc, svc, lr, xgb, lgbm):\n",
        "    model.append(clf.__class__.__name__)\n",
        "    acc.append(val_model(X_train, y_train, clf, quite=True))\n",
        "\n",
        "pd.DataFrame(data=acc, index=model, columns=['acc'])"
      ],
      "execution_count": 41,
      "outputs": [
        {
          "output_type": "execute_result",
          "data": {
            "text/html": [
              "<div>\n",
              "<style scoped>\n",
              "    .dataframe tbody tr th:only-of-type {\n",
              "        vertical-align: middle;\n",
              "    }\n",
              "\n",
              "    .dataframe tbody tr th {\n",
              "        vertical-align: top;\n",
              "    }\n",
              "\n",
              "    .dataframe thead th {\n",
              "        text-align: right;\n",
              "    }\n",
              "</style>\n",
              "<table border=\"1\" class=\"dataframe\">\n",
              "  <thead>\n",
              "    <tr style=\"text-align: right;\">\n",
              "      <th></th>\n",
              "      <th>acc</th>\n",
              "    </tr>\n",
              "  </thead>\n",
              "  <tbody>\n",
              "    <tr>\n",
              "      <th>RandomForestClassifier</th>\n",
              "      <td>0.837600</td>\n",
              "    </tr>\n",
              "    <tr>\n",
              "      <th>DecisionTreeClassifier</th>\n",
              "      <td>0.738688</td>\n",
              "    </tr>\n",
              "    <tr>\n",
              "      <th>SGDClassifier</th>\n",
              "      <td>0.837053</td>\n",
              "    </tr>\n",
              "    <tr>\n",
              "      <th>SVC</th>\n",
              "      <td>0.837292</td>\n",
              "    </tr>\n",
              "    <tr>\n",
              "      <th>LogisticRegression</th>\n",
              "      <td>0.837087</td>\n",
              "    </tr>\n",
              "    <tr>\n",
              "      <th>XGBClassifier</th>\n",
              "      <td>0.838764</td>\n",
              "    </tr>\n",
              "    <tr>\n",
              "      <th>LGBMClassifier</th>\n",
              "      <td>0.838422</td>\n",
              "    </tr>\n",
              "  </tbody>\n",
              "</table>\n",
              "</div>"
            ],
            "text/plain": [
              "                             acc\n",
              "RandomForestClassifier  0.837600\n",
              "DecisionTreeClassifier  0.738688\n",
              "SGDClassifier           0.837053\n",
              "SVC                     0.837292\n",
              "LogisticRegression      0.837087\n",
              "XGBClassifier           0.838764\n",
              "LGBMClassifier          0.838422"
            ]
          },
          "metadata": {
            "tags": []
          },
          "execution_count": 41
        }
      ]
    },
    {
      "cell_type": "markdown",
      "metadata": {
        "id": "ukqXqGZvNS7V"
      },
      "source": [
        "Os modelos foram então testados, agora será analizadas as acurácias de cada um. "
      ]
    },
    {
      "cell_type": "markdown",
      "metadata": {
        "id": "ykX0ygyVhYk3"
      },
      "source": [
        "Ao realizar os testes com diferentes modelos, podemos ver que o XGBClassifierretornou os melhores resultados.\n",
        "\n",
        "A margem foi pequena, o que suegere que, dada a devida parametrização, qualquer modelo dessa lista poderia ser tão eficiente ou até mais eficiente do que o XGB, mas devido ao seu resultado inicial, iremos seguir com ele.\n",
        "\n",
        "No entanto, identificando melhores parâmetros com get_params podemos dar um tunar estes parâmetros e melhorar o XGBClassifier. \n",
        "\n"
      ]
    },
    {
      "cell_type": "markdown",
      "metadata": {
        "id": "AdBFUGbEhrsj"
      },
      "source": [
        "https://towardsdatascience.com/fine-tuning-xgboost-in-python-like-a-boss-b4543ed8b1e"
      ]
    },
    {
      "cell_type": "code",
      "metadata": {
        "id": "9Q5cONSKh9nG",
        "colab": {
          "base_uri": "https://localhost:8080/"
        },
        "outputId": "4080d2a8-1cfc-4fb9-8145-c55a016bca70"
      },
      "source": [
        "# verificando os parâmetros\n",
        "xgb.get_params()"
      ],
      "execution_count": 42,
      "outputs": [
        {
          "output_type": "execute_result",
          "data": {
            "text/plain": [
              "{'base_score': 0.5,\n",
              " 'booster': 'gbtree',\n",
              " 'colsample_bylevel': 1,\n",
              " 'colsample_bynode': 1,\n",
              " 'colsample_bytree': 1,\n",
              " 'gamma': 0,\n",
              " 'learning_rate': 0.1,\n",
              " 'max_delta_step': 0,\n",
              " 'max_depth': 3,\n",
              " 'min_child_weight': 1,\n",
              " 'missing': None,\n",
              " 'n_estimators': 100,\n",
              " 'n_jobs': 1,\n",
              " 'nthread': None,\n",
              " 'objective': 'binary:logistic',\n",
              " 'random_state': 0,\n",
              " 'reg_alpha': 0,\n",
              " 'reg_lambda': 1,\n",
              " 'scale_pos_weight': 1,\n",
              " 'seed': None,\n",
              " 'silent': None,\n",
              " 'subsample': 1,\n",
              " 'verbosity': 1}"
            ]
          },
          "metadata": {
            "tags": []
          },
          "execution_count": 42
        }
      ]
    },
    {
      "cell_type": "code",
      "metadata": {
        "id": "FJwnPRTbibyJ"
      },
      "source": [
        "# instanciando o modelo\n",
        "xgb = XGBClassifier(random_state=42)\n",
        "\n",
        "# definindo os parâmetros a serem testados  \n",
        "param_grid = {\n",
        "  'learning_rate': [0.001, 0.01, 0.1],  \n",
        "  'gamma':[0, 1, 5],\n",
        "  'subsample':[0.5, 1.5, 3.5],\n",
        "  'max_depth': [1, 3, 5],\n",
        "  'n_estimators': [100, 500, 1000],\n",
        "  'colsample_bytree': [0.1, 0.5, 1]\n",
        " }"
      ],
      "execution_count": 43,
      "outputs": []
    },
    {
      "cell_type": "code",
      "metadata": {
        "id": "nJt_NqQHihvD"
      },
      "source": [
        "# identificar melhores parâmetros\n",
        "kfold = StratifiedKFold(n_splits=3, shuffle=True)\n",
        "grid_search = GridSearchCV(xgb, param_grid, scoring=\"accuracy\", n_jobs=-1, cv=kfold)\n",
        "grid_result = grid_search.fit(X_train, y_train)\n",
        "\n",
        "# ver resultados\n",
        "print(\"Melhor: {:.2f} para {}\".format(grid_result.best_score_, grid_result.best_params_))"
      ],
      "execution_count": null,
      "outputs": []
    },
    {
      "cell_type": "code",
      "metadata": {
        "id": "c4Mk3hXSkJN0"
      },
      "source": [
        "# instanciando o modelo e treinando o mesmo\n",
        "ml_model = XGBClassifier(learning_rate=0.1, max_depth=1, gamma=5,\n",
        "                         n_estimators= 1000, min_child_weight=1, \n",
        "                         subsample = 0.5, colsample_bytree = 0.1,\n",
        "                         random_state=42)\n",
        "\n",
        "ml_model.fit(X_train, y_train)"
      ],
      "execution_count": null,
      "outputs": []
    },
    {
      "cell_type": "code",
      "metadata": {
        "id": "aR9nTCXekKSe"
      },
      "source": [
        "# previsões e probabilidades em cima do dataset de teste\n",
        "y_pred = ml_model.predict(X_test)\n",
        "\n",
        "# imprimir a acurácia do modelo\n",
        "print(\"Acurácia: {:.4f}\\n\".format(accuracy_score(y_test, y_pred)))"
      ],
      "execution_count": null,
      "outputs": []
    },
    {
      "cell_type": "markdown",
      "metadata": {
        "id": "rP5wu7BQO9a5"
      },
      "source": [
        "### Conclusões gerais \r\n"
      ]
    },
    {
      "cell_type": "markdown",
      "metadata": {
        "id": "d81ThmI2kgnJ"
      },
      "source": [
        "\n",
        "Nesse projeto, o objetivo era realmente comparar o desempenho, pela acurácia, de diferentes modelos. Foi verificado que, com acurácia igual a 0.838764, o XGBClassifier foi identificado como o melhor dentre os demais analisados. No entanto, a diferença de desempenho entre os modelos foi relativamente pequena,  o que, usar os outros modelos em determinados casos e problemas pode influenciar bastante no resultado de predição e em outros, não. \n",
        "Foi analisado também que melhora o resultado quando escolhidos e \"tunados\" os parâmetros. \n",
        "\n",
        "\n"
      ]
    }
  ]
}