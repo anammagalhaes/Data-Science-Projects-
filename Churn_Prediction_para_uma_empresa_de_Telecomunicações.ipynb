{
  "nbformat": 4,
  "nbformat_minor": 0,
  "metadata": {
    "colab": {
      "name": "Churn Prediction para uma empresa de Telecomunicações",
      "provenance": [],
      "collapsed_sections": [],
      "toc_visible": true,
      "authorship_tag": "ABX9TyMG+wqvqwfxCj8zkKfniXmW",
      "include_colab_link": true
    },
    "kernelspec": {
      "name": "python3",
      "display_name": "Python 3"
    }
  },
  "cells": [
    {
      "cell_type": "markdown",
      "metadata": {
        "id": "view-in-github",
        "colab_type": "text"
      },
      "source": [
        "<a href=\"https://colab.research.google.com/github/anammagalhaes/Data-Science-Projects-/blob/master/Churn_Prediction_para_uma_empresa_de_Telecomunica%C3%A7%C3%B5es.ipynb\" target=\"_parent\"><img src=\"https://colab.research.google.com/assets/colab-badge.svg\" alt=\"Open In Colab\"/></a>"
      ]
    },
    {
      "cell_type": "markdown",
      "metadata": {
        "id": "YforBfVQH-_b"
      },
      "source": [
        "# **Churn Prediction para uma empresa de Telecomunicações**"
      ]
    },
    {
      "cell_type": "markdown",
      "metadata": {
        "id": "j8uw0nUZIcdK"
      },
      "source": [
        "*Churn rate* é um termo amplo que se refere à ação de pessoas deixando um grupo específico em um determinado período de tempo. Portanto, pode ser aplicado a funcionários que estão saindo de uma empresa ou a clientes que encerram suas assinaturas de serviço, por exemplo. Desta forma, criar estratégias que prevejam situação como esta, é de extrema necessidade para criar ações para evitá-las. Visto que o custo para adquirir clientes é mais alto do que para mantê-los. \n",
        "Neste cenário, este projeto tem como finalidade construir um modelo de Machine Learning para predizer, com base em dados históricos, a saída ou não do cliente em uma empresa de Telecomunicações. "
      ]
    },
    {
      "cell_type": "markdown",
      "metadata": {
        "id": "xOU6-qfaIRuf"
      },
      "source": [
        "![churn-rate.jpg](data:image/jpeg;base64,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)"
      ]
    },
    {
      "cell_type": "markdown",
      "metadata": {
        "id": "oD7mTjZjK9mL"
      },
      "source": [
        "## **Aquisição do Banco de Dados**\n",
        "\n",
        "O banco de dados original é disponibilizado pela [plataforma de ensino da IBM Developer ](https://developer.ibm.com/technologies/data-science/patterns/predict-customer-churn-using-watson-studio-and-jupyter-notebooks/#), o qual trata do problema de Churn mencionado em uma empresa de Telecomunicações. \n",
        "Não há informações explícitas sobre os nomes das variáveis, no entanto, são bastante auto explicativas. "
      ]
    },
    {
      "cell_type": "markdown",
      "metadata": {
        "id": "PBczG44qL0Fr"
      },
      "source": [
        "## **Importando os pacotes necessários e criando um DataFrame**"
      ]
    },
    {
      "cell_type": "code",
      "metadata": {
        "id": "j0vPAsOV2kbD"
      },
      "source": [
        "# instalar Pandas Profiling\n",
        "!pip install scikit-plot -q\n",
        "!pip install imbalanced-learn -q"
      ],
      "execution_count": 1,
      "outputs": []
    },
    {
      "cell_type": "code",
      "metadata": {
        "id": "1EESmEbG9HUK",
        "outputId": "979ecdb0-8a2e-4a6a-feea-4e15035860b6",
        "colab": {
          "base_uri": "https://localhost:8080/",
          "height": 557
        }
      },
      "source": [
        "# import warnings filter\n",
        "from warnings import simplefilter\n",
        "# ignore all future warnings\n",
        "simplefilter(action='ignore', category=FutureWarning)\n",
        "\n",
        "# importar os pacotes necessários\n",
        "import pandas as pd\n",
        "import numpy as np\n",
        "import matplotlib.pyplot as plt\n",
        "import seaborn as sns\n",
        "from imblearn.under_sampling import RandomUnderSampler\n",
        "from sklearn.metrics import roc_auc_score, accuracy_score, f1_score, confusion_matrix, classification_report\n",
        "from scikitplot.metrics import plot_confusion_matrix, plot_roc\n",
        "from sklearn.preprocessing import StandardScaler, LabelEncoder\n",
        "from sklearn.pipeline import make_pipeline\n",
        "from sklearn.model_selection import train_test_split\n",
        "from sklearn.model_selection import cross_val_score\n",
        "from sklearn.model_selection import StratifiedKFold\n",
        "from sklearn.model_selection import GridSearchCV\n",
        "from sklearn.svm import SVC\n",
        "from lightgbm import LGBMClassifier\n",
        "from sklearn.linear_model import SGDClassifier\n",
        "from sklearn.tree import DecisionTreeClassifier\n",
        "from sklearn.linear_model import LogisticRegression\n",
        "from xgboost import XGBClassifier\n",
        "from sklearn.ensemble import RandomForestClassifier\n",
        "\n",
        "# random seed\n",
        "np.random.seed(42)\n",
        "\n",
        "# importar os dados\n",
        "df = pd.read_csv(\"https://raw.githubusercontent.com/carlosfab/dsnp2/master/datasets/WA_Fn-UseC_-Telco-Customer-Churn.csv\") #Este banco de dados é o original, no entanto foi retirado do Github do professor do curso Sigmoidal, no qual este trabalho faz parte. \n",
        "\n",
        "# ver as 5 primeiras entradas\n",
        "df.head(10)"
      ],
      "execution_count": 5,
      "outputs": [
        {
          "output_type": "execute_result",
          "data": {
            "text/html": [
              "<div>\n",
              "<style scoped>\n",
              "    .dataframe tbody tr th:only-of-type {\n",
              "        vertical-align: middle;\n",
              "    }\n",
              "\n",
              "    .dataframe tbody tr th {\n",
              "        vertical-align: top;\n",
              "    }\n",
              "\n",
              "    .dataframe thead th {\n",
              "        text-align: right;\n",
              "    }\n",
              "</style>\n",
              "<table border=\"1\" class=\"dataframe\">\n",
              "  <thead>\n",
              "    <tr style=\"text-align: right;\">\n",
              "      <th></th>\n",
              "      <th>customerID</th>\n",
              "      <th>gender</th>\n",
              "      <th>SeniorCitizen</th>\n",
              "      <th>Partner</th>\n",
              "      <th>Dependents</th>\n",
              "      <th>tenure</th>\n",
              "      <th>PhoneService</th>\n",
              "      <th>MultipleLines</th>\n",
              "      <th>InternetService</th>\n",
              "      <th>OnlineSecurity</th>\n",
              "      <th>OnlineBackup</th>\n",
              "      <th>DeviceProtection</th>\n",
              "      <th>TechSupport</th>\n",
              "      <th>StreamingTV</th>\n",
              "      <th>StreamingMovies</th>\n",
              "      <th>Contract</th>\n",
              "      <th>PaperlessBilling</th>\n",
              "      <th>PaymentMethod</th>\n",
              "      <th>MonthlyCharges</th>\n",
              "      <th>TotalCharges</th>\n",
              "      <th>Churn</th>\n",
              "    </tr>\n",
              "  </thead>\n",
              "  <tbody>\n",
              "    <tr>\n",
              "      <th>0</th>\n",
              "      <td>7590-VHVEG</td>\n",
              "      <td>Female</td>\n",
              "      <td>0</td>\n",
              "      <td>Yes</td>\n",
              "      <td>No</td>\n",
              "      <td>1</td>\n",
              "      <td>No</td>\n",
              "      <td>No phone service</td>\n",
              "      <td>DSL</td>\n",
              "      <td>No</td>\n",
              "      <td>Yes</td>\n",
              "      <td>No</td>\n",
              "      <td>No</td>\n",
              "      <td>No</td>\n",
              "      <td>No</td>\n",
              "      <td>Month-to-month</td>\n",
              "      <td>Yes</td>\n",
              "      <td>Electronic check</td>\n",
              "      <td>29.85</td>\n",
              "      <td>29.85</td>\n",
              "      <td>No</td>\n",
              "    </tr>\n",
              "    <tr>\n",
              "      <th>1</th>\n",
              "      <td>5575-GNVDE</td>\n",
              "      <td>Male</td>\n",
              "      <td>0</td>\n",
              "      <td>No</td>\n",
              "      <td>No</td>\n",
              "      <td>34</td>\n",
              "      <td>Yes</td>\n",
              "      <td>No</td>\n",
              "      <td>DSL</td>\n",
              "      <td>Yes</td>\n",
              "      <td>No</td>\n",
              "      <td>Yes</td>\n",
              "      <td>No</td>\n",
              "      <td>No</td>\n",
              "      <td>No</td>\n",
              "      <td>One year</td>\n",
              "      <td>No</td>\n",
              "      <td>Mailed check</td>\n",
              "      <td>56.95</td>\n",
              "      <td>1889.5</td>\n",
              "      <td>No</td>\n",
              "    </tr>\n",
              "    <tr>\n",
              "      <th>2</th>\n",
              "      <td>3668-QPYBK</td>\n",
              "      <td>Male</td>\n",
              "      <td>0</td>\n",
              "      <td>No</td>\n",
              "      <td>No</td>\n",
              "      <td>2</td>\n",
              "      <td>Yes</td>\n",
              "      <td>No</td>\n",
              "      <td>DSL</td>\n",
              "      <td>Yes</td>\n",
              "      <td>Yes</td>\n",
              "      <td>No</td>\n",
              "      <td>No</td>\n",
              "      <td>No</td>\n",
              "      <td>No</td>\n",
              "      <td>Month-to-month</td>\n",
              "      <td>Yes</td>\n",
              "      <td>Mailed check</td>\n",
              "      <td>53.85</td>\n",
              "      <td>108.15</td>\n",
              "      <td>Yes</td>\n",
              "    </tr>\n",
              "    <tr>\n",
              "      <th>3</th>\n",
              "      <td>7795-CFOCW</td>\n",
              "      <td>Male</td>\n",
              "      <td>0</td>\n",
              "      <td>No</td>\n",
              "      <td>No</td>\n",
              "      <td>45</td>\n",
              "      <td>No</td>\n",
              "      <td>No phone service</td>\n",
              "      <td>DSL</td>\n",
              "      <td>Yes</td>\n",
              "      <td>No</td>\n",
              "      <td>Yes</td>\n",
              "      <td>Yes</td>\n",
              "      <td>No</td>\n",
              "      <td>No</td>\n",
              "      <td>One year</td>\n",
              "      <td>No</td>\n",
              "      <td>Bank transfer (automatic)</td>\n",
              "      <td>42.30</td>\n",
              "      <td>1840.75</td>\n",
              "      <td>No</td>\n",
              "    </tr>\n",
              "    <tr>\n",
              "      <th>4</th>\n",
              "      <td>9237-HQITU</td>\n",
              "      <td>Female</td>\n",
              "      <td>0</td>\n",
              "      <td>No</td>\n",
              "      <td>No</td>\n",
              "      <td>2</td>\n",
              "      <td>Yes</td>\n",
              "      <td>No</td>\n",
              "      <td>Fiber optic</td>\n",
              "      <td>No</td>\n",
              "      <td>No</td>\n",
              "      <td>No</td>\n",
              "      <td>No</td>\n",
              "      <td>No</td>\n",
              "      <td>No</td>\n",
              "      <td>Month-to-month</td>\n",
              "      <td>Yes</td>\n",
              "      <td>Electronic check</td>\n",
              "      <td>70.70</td>\n",
              "      <td>151.65</td>\n",
              "      <td>Yes</td>\n",
              "    </tr>\n",
              "    <tr>\n",
              "      <th>5</th>\n",
              "      <td>9305-CDSKC</td>\n",
              "      <td>Female</td>\n",
              "      <td>0</td>\n",
              "      <td>No</td>\n",
              "      <td>No</td>\n",
              "      <td>8</td>\n",
              "      <td>Yes</td>\n",
              "      <td>Yes</td>\n",
              "      <td>Fiber optic</td>\n",
              "      <td>No</td>\n",
              "      <td>No</td>\n",
              "      <td>Yes</td>\n",
              "      <td>No</td>\n",
              "      <td>Yes</td>\n",
              "      <td>Yes</td>\n",
              "      <td>Month-to-month</td>\n",
              "      <td>Yes</td>\n",
              "      <td>Electronic check</td>\n",
              "      <td>99.65</td>\n",
              "      <td>820.5</td>\n",
              "      <td>Yes</td>\n",
              "    </tr>\n",
              "    <tr>\n",
              "      <th>6</th>\n",
              "      <td>1452-KIOVK</td>\n",
              "      <td>Male</td>\n",
              "      <td>0</td>\n",
              "      <td>No</td>\n",
              "      <td>Yes</td>\n",
              "      <td>22</td>\n",
              "      <td>Yes</td>\n",
              "      <td>Yes</td>\n",
              "      <td>Fiber optic</td>\n",
              "      <td>No</td>\n",
              "      <td>Yes</td>\n",
              "      <td>No</td>\n",
              "      <td>No</td>\n",
              "      <td>Yes</td>\n",
              "      <td>No</td>\n",
              "      <td>Month-to-month</td>\n",
              "      <td>Yes</td>\n",
              "      <td>Credit card (automatic)</td>\n",
              "      <td>89.10</td>\n",
              "      <td>1949.4</td>\n",
              "      <td>No</td>\n",
              "    </tr>\n",
              "    <tr>\n",
              "      <th>7</th>\n",
              "      <td>6713-OKOMC</td>\n",
              "      <td>Female</td>\n",
              "      <td>0</td>\n",
              "      <td>No</td>\n",
              "      <td>No</td>\n",
              "      <td>10</td>\n",
              "      <td>No</td>\n",
              "      <td>No phone service</td>\n",
              "      <td>DSL</td>\n",
              "      <td>Yes</td>\n",
              "      <td>No</td>\n",
              "      <td>No</td>\n",
              "      <td>No</td>\n",
              "      <td>No</td>\n",
              "      <td>No</td>\n",
              "      <td>Month-to-month</td>\n",
              "      <td>No</td>\n",
              "      <td>Mailed check</td>\n",
              "      <td>29.75</td>\n",
              "      <td>301.9</td>\n",
              "      <td>No</td>\n",
              "    </tr>\n",
              "    <tr>\n",
              "      <th>8</th>\n",
              "      <td>7892-POOKP</td>\n",
              "      <td>Female</td>\n",
              "      <td>0</td>\n",
              "      <td>Yes</td>\n",
              "      <td>No</td>\n",
              "      <td>28</td>\n",
              "      <td>Yes</td>\n",
              "      <td>Yes</td>\n",
              "      <td>Fiber optic</td>\n",
              "      <td>No</td>\n",
              "      <td>No</td>\n",
              "      <td>Yes</td>\n",
              "      <td>Yes</td>\n",
              "      <td>Yes</td>\n",
              "      <td>Yes</td>\n",
              "      <td>Month-to-month</td>\n",
              "      <td>Yes</td>\n",
              "      <td>Electronic check</td>\n",
              "      <td>104.80</td>\n",
              "      <td>3046.05</td>\n",
              "      <td>Yes</td>\n",
              "    </tr>\n",
              "    <tr>\n",
              "      <th>9</th>\n",
              "      <td>6388-TABGU</td>\n",
              "      <td>Male</td>\n",
              "      <td>0</td>\n",
              "      <td>No</td>\n",
              "      <td>Yes</td>\n",
              "      <td>62</td>\n",
              "      <td>Yes</td>\n",
              "      <td>No</td>\n",
              "      <td>DSL</td>\n",
              "      <td>Yes</td>\n",
              "      <td>Yes</td>\n",
              "      <td>No</td>\n",
              "      <td>No</td>\n",
              "      <td>No</td>\n",
              "      <td>No</td>\n",
              "      <td>One year</td>\n",
              "      <td>No</td>\n",
              "      <td>Bank transfer (automatic)</td>\n",
              "      <td>56.15</td>\n",
              "      <td>3487.95</td>\n",
              "      <td>No</td>\n",
              "    </tr>\n",
              "  </tbody>\n",
              "</table>\n",
              "</div>"
            ],
            "text/plain": [
              "   customerID  gender  SeniorCitizen  ... MonthlyCharges TotalCharges  Churn\n",
              "0  7590-VHVEG  Female              0  ...          29.85        29.85     No\n",
              "1  5575-GNVDE    Male              0  ...          56.95       1889.5     No\n",
              "2  3668-QPYBK    Male              0  ...          53.85       108.15    Yes\n",
              "3  7795-CFOCW    Male              0  ...          42.30      1840.75     No\n",
              "4  9237-HQITU  Female              0  ...          70.70       151.65    Yes\n",
              "5  9305-CDSKC  Female              0  ...          99.65        820.5    Yes\n",
              "6  1452-KIOVK    Male              0  ...          89.10       1949.4     No\n",
              "7  6713-OKOMC  Female              0  ...          29.75        301.9     No\n",
              "8  7892-POOKP  Female              0  ...         104.80      3046.05    Yes\n",
              "9  6388-TABGU    Male              0  ...          56.15      3487.95     No\n",
              "\n",
              "[10 rows x 21 columns]"
            ]
          },
          "metadata": {
            "tags": []
          },
          "execution_count": 5
        }
      ]
    },
    {
      "cell_type": "markdown",
      "metadata": {
        "id": "rqMrKzHsEdWq"
      },
      "source": [
        "A visualização das 5 primeiras entradas já permite entender como o dataset está composto. \n"
      ]
    },
    {
      "cell_type": "code",
      "metadata": {
        "id": "yj7pKGq7EkMy",
        "outputId": "61c9fc61-6c09-4c3a-acfe-4d3124f8ddef",
        "colab": {
          "base_uri": "https://localhost:8080/"
        }
      },
      "source": [
        "# Verificaçao da dimensão do dataframe em linhas (entradas) e colunas (variáveis ou features)\n",
        "\n",
        "print(\"Linhas:\\t\\t{}\".format(df.shape[0]))\n",
        "print(\"Colunas:\\t{}\".format(df.shape[1]))"
      ],
      "execution_count": null,
      "outputs": [
        {
          "output_type": "stream",
          "text": [
            "Linhas:\t\t7043\n",
            "Colunas:\t21\n"
          ],
          "name": "stdout"
        }
      ]
    },
    {
      "cell_type": "markdown",
      "metadata": {
        "id": "3VwVHsq7E9hi"
      },
      "source": [
        "## Análise Exploratória dos Dados"
      ]
    },
    {
      "cell_type": "markdown",
      "metadata": {
        "id": "kPCPueOsFEMW"
      },
      "source": [
        "Logo de início, a Análise Exploratória demanda conhecimento sobre o banco de dados, portanto, basicamente serão verificados quantidade de dados ausentes, os nomes das colunas, os tipos de variáveis por coluna e os valores únicos por coluna. Estas etapas são essenciais para a identificação de veriáveis categórias, levantamento de hipóteses para contrução do modelo e se necessário, como os dados devem ser limpos e tratados antes de alimentar um modelo de machine learning. Além disso, gera conhecimento para identificar qual modelo pode ser melhor para aplicar no problema em questão. "
      ]
    },
    {
      "cell_type": "code",
      "metadata": {
        "id": "aQVI-_RPFNbM",
        "outputId": "95996a9c-d529-4890-f6df-d31c4f91c323",
        "colab": {
          "base_uri": "https://localhost:8080/"
        }
      },
      "source": [
        "print(\"Dados ausentes:\")\n",
        "print(df.isnull().sum() / df.shape[0])\n"
      ],
      "execution_count": null,
      "outputs": [
        {
          "output_type": "stream",
          "text": [
            "Dados ausentes:\n",
            "customerID          0.0\n",
            "gender              0.0\n",
            "SeniorCitizen       0.0\n",
            "Partner             0.0\n",
            "Dependents          0.0\n",
            "tenure              0.0\n",
            "PhoneService        0.0\n",
            "MultipleLines       0.0\n",
            "InternetService     0.0\n",
            "OnlineSecurity      0.0\n",
            "OnlineBackup        0.0\n",
            "DeviceProtection    0.0\n",
            "TechSupport         0.0\n",
            "StreamingTV         0.0\n",
            "StreamingMovies     0.0\n",
            "Contract            0.0\n",
            "PaperlessBilling    0.0\n",
            "PaymentMethod       0.0\n",
            "MonthlyCharges      0.0\n",
            "TotalCharges        0.0\n",
            "Churn               0.0\n",
            "dtype: float64\n"
          ],
          "name": "stdout"
        }
      ]
    },
    {
      "cell_type": "code",
      "metadata": {
        "id": "J1mECbyTFkJE",
        "outputId": "fe48bbc4-ec66-4b4d-9bf2-fa37316db27e",
        "colab": {
          "base_uri": "https://localhost:8080/"
        }
      },
      "source": [
        "print(\"Nomes das features:\")\n",
        "print(df.columns.values)\n"
      ],
      "execution_count": null,
      "outputs": [
        {
          "output_type": "stream",
          "text": [
            "Nomes das features:\n",
            "['customerID' 'gender' 'SeniorCitizen' 'Partner' 'Dependents' 'tenure'\n",
            " 'PhoneService' 'MultipleLines' 'InternetService' 'OnlineSecurity'\n",
            " 'OnlineBackup' 'DeviceProtection' 'TechSupport' 'StreamingTV'\n",
            " 'StreamingMovies' 'Contract' 'PaperlessBilling' 'PaymentMethod'\n",
            " 'MonthlyCharges' 'TotalCharges' 'Churn']\n"
          ],
          "name": "stdout"
        }
      ]
    },
    {
      "cell_type": "code",
      "metadata": {
        "id": "YsZiF26aFzE2",
        "outputId": "08741fbf-0ae9-405e-c4de-c4a8a0ad60fe",
        "colab": {
          "base_uri": "https://localhost:8080/"
        }
      },
      "source": [
        "print(\"Valores únicos (por feature):\")\n",
        "print(df.nunique())\n"
      ],
      "execution_count": null,
      "outputs": [
        {
          "output_type": "stream",
          "text": [
            "Valores únicos (por feature):\n",
            "customerID          7043\n",
            "gender                 2\n",
            "SeniorCitizen          2\n",
            "Partner                2\n",
            "Dependents             2\n",
            "tenure                73\n",
            "PhoneService           2\n",
            "MultipleLines          3\n",
            "InternetService        3\n",
            "OnlineSecurity         3\n",
            "OnlineBackup           3\n",
            "DeviceProtection       3\n",
            "TechSupport            3\n",
            "StreamingTV            3\n",
            "StreamingMovies        3\n",
            "Contract               3\n",
            "PaperlessBilling       2\n",
            "PaymentMethod          4\n",
            "MonthlyCharges      1585\n",
            "TotalCharges        6531\n",
            "Churn                  2\n",
            "dtype: int64\n"
          ],
          "name": "stdout"
        }
      ]
    },
    {
      "cell_type": "code",
      "metadata": {
        "id": "6rFwDtsLF-ey",
        "outputId": "633d731f-ed2f-4ac0-901d-dca681000591",
        "colab": {
          "base_uri": "https://localhost:8080/"
        }
      },
      "source": [
        "print(\"Tipos de Variáveis (por coluna):\")\n",
        "df.dtypes"
      ],
      "execution_count": null,
      "outputs": [
        {
          "output_type": "stream",
          "text": [
            "Tipos de Variáveis (por coluna):\n"
          ],
          "name": "stdout"
        },
        {
          "output_type": "execute_result",
          "data": {
            "text/plain": [
              "customerID           object\n",
              "gender               object\n",
              "SeniorCitizen         int64\n",
              "Partner              object\n",
              "Dependents           object\n",
              "tenure                int64\n",
              "PhoneService         object\n",
              "MultipleLines        object\n",
              "InternetService      object\n",
              "OnlineSecurity       object\n",
              "OnlineBackup         object\n",
              "DeviceProtection     object\n",
              "TechSupport          object\n",
              "StreamingTV          object\n",
              "StreamingMovies      object\n",
              "Contract             object\n",
              "PaperlessBilling     object\n",
              "PaymentMethod        object\n",
              "MonthlyCharges      float64\n",
              "TotalCharges         object\n",
              "Churn                object\n",
              "dtype: object"
            ]
          },
          "metadata": {
            "tags": []
          },
          "execution_count": 20
        }
      ]
    },
    {
      "cell_type": "markdown",
      "metadata": {
        "id": "TKGMJJ3iNilE"
      },
      "source": [
        "Algumas conclusões podem ser extraídas desta análise inicial: \n",
        "\n",
        "*   A variável \"costumerID\" não agregará nenhuma informação adicional na construção do modelo, pois se trata de um identificador único para cada cliente;\n",
        "*   A variável alvo (ou dependente) está na coluna \"Churn\", em que indica a situação de churn, em No ou Yes. \n",
        "*   A coluna TotalCharges está como string, no entanto, deveria estar como float, pois pelas entradas que analisamos, aparentemente são floats.\n",
        "*   A maioria das features precisam ser convertidas em valores numéricos.\n",
        "*   Apesar de identificar que não existem valores ausentes, algumas strings representam valores ausentes. \n",
        "*   Há várias variáveis categóricas representadas também por Yes e No. \n",
        "Tudo isso precisará ser tratado nas próximas etapas. \n",
        "\n",
        "\n",
        "\n",
        "\n",
        "\n"
      ]
    },
    {
      "cell_type": "code",
      "metadata": {
        "id": "DndyTDUiGZwy"
      },
      "source": [
        "# converter coluna TotalCharges para float\n",
        "# df[\"TotalCharges\"].astype('float32')"
      ],
      "execution_count": null,
      "outputs": []
    },
    {
      "cell_type": "markdown",
      "metadata": {
        "id": "2aWtypuBGk6e"
      },
      "source": [
        "Ao tentar converter de string para float, o interpretador retorna um erro. Na verdade, analisando o banco de dados inteiro, pode-se avaliar que os dados ausentes foram preenchidos com aspas \"\", que é interpretada como string. É por isso que retorna o erro. \n",
        "\n",
        "Quando acontece isso, é melhor definir uma função que entre o string e saia o calor convertido em float. Se isso não for possível, que seja substituido por NaN. \n",
        "\n"
      ]
    },
    {
      "cell_type": "code",
      "metadata": {
        "id": "JiYLjFQuG56f"
      },
      "source": [
        "def converter_str_float(entrada):   #esta função é como???? \n",
        "    \"\"\"\n",
        "    Converte um objeto do tipo string em float.\n",
        "\n",
        "    # Arguments\n",
        "        entrada: string, string da coluna TotalCharges.\n",
        "\n",
        "    # Returns\n",
        "        Valor convertido em float, caso permita a conversão.\n",
        "        NaN, caso o valor não seja apropriado.\n",
        "    \"\"\"\n",
        "\n",
        "    try:\n",
        "        return float(entrada)\n",
        "    except ValueError:\n",
        "        return np.nan"
      ],
      "execution_count": null,
      "outputs": []
    },
    {
      "cell_type": "markdown",
      "metadata": {
        "id": "eQfgmd1izUm1"
      },
      "source": [
        " Em seguida, estes  possiveis valores ausentes (NaN) foram substituidos pelo valor da mediana da coluna \"TotalCharges\" (isso pode ser optado de acordo com o problema a solucionar, não necessariamente deve-se substituir pela mediana). Foi removida a coluna CostumerID também. Estas mudanças farão parte do novo dataframe: df_clean. \n"
      ]
    },
    {
      "cell_type": "code",
      "metadata": {
        "id": "2uuaBbODHFHV",
        "outputId": "b33d8ea9-f3f7-4717-860a-af457e917fa6",
        "colab": {
          "base_uri": "https://localhost:8080/"
        }
      },
      "source": [
        "# criar cópia do dataframe\n",
        "df_clean = df.copy()\n",
        "\n",
        "# remover coluna costumerID\n",
        "df_clean.drop(\"customerID\", axis=1, inplace=True)\n",
        "\n",
        "# converter as strings de TotalCharges para float usando a função definida anteriormente. \n",
        "df_clean[\"TotalCharges\"] = df_clean[\"TotalCharges\"].apply(converter_str_float)\n",
        "\n",
        "# verificar entradas ausentes (as quais receberam NaN)\n",
        "print(\"Dados ausentes em 'TotalCharges' (antes):\\t{}\\n\".format(df_clean[\"TotalCharges\"].isnull().sum()))\n",
        "\n",
        "# substituir os dados ausentes pelo valor da mediana\n",
        "TotalChargesMedian = df_clean.TotalCharges.median()\n",
        "df_clean[\"TotalCharges\"].fillna(TotalChargesMedian, inplace=True)"
      ],
      "execution_count": null,
      "outputs": [
        {
          "output_type": "stream",
          "text": [
            "Dados ausentes em 'TotalCharges' (antes):\t11\n",
            "\n"
          ],
          "name": "stdout"
        }
      ]
    },
    {
      "cell_type": "markdown",
      "metadata": {
        "id": "fcLGGVYZHV2V"
      },
      "source": [
        "Apesar deste dataset ser composto majoritariamente por variáveis binárias ou categóricas, é possível ver abaixio, pelo método describe, que não há indícios da presença de outliers nas variáveis numéricas."
      ]
    },
    {
      "cell_type": "code",
      "metadata": {
        "id": "yfpVMZxCHlIx",
        "outputId": "e54796ce-1121-4216-91cc-2767cf4655fc",
        "colab": {
          "base_uri": "https://localhost:8080/",
          "height": 297
        }
      },
      "source": [
        "df_clean.describe() "
      ],
      "execution_count": null,
      "outputs": [
        {
          "output_type": "execute_result",
          "data": {
            "text/html": [
              "<div>\n",
              "<style scoped>\n",
              "    .dataframe tbody tr th:only-of-type {\n",
              "        vertical-align: middle;\n",
              "    }\n",
              "\n",
              "    .dataframe tbody tr th {\n",
              "        vertical-align: top;\n",
              "    }\n",
              "\n",
              "    .dataframe thead th {\n",
              "        text-align: right;\n",
              "    }\n",
              "</style>\n",
              "<table border=\"1\" class=\"dataframe\">\n",
              "  <thead>\n",
              "    <tr style=\"text-align: right;\">\n",
              "      <th></th>\n",
              "      <th>SeniorCitizen</th>\n",
              "      <th>tenure</th>\n",
              "      <th>MonthlyCharges</th>\n",
              "      <th>TotalCharges</th>\n",
              "    </tr>\n",
              "  </thead>\n",
              "  <tbody>\n",
              "    <tr>\n",
              "      <th>count</th>\n",
              "      <td>7043.000000</td>\n",
              "      <td>7043.000000</td>\n",
              "      <td>7043.000000</td>\n",
              "      <td>7043.000000</td>\n",
              "    </tr>\n",
              "    <tr>\n",
              "      <th>mean</th>\n",
              "      <td>0.162147</td>\n",
              "      <td>32.371149</td>\n",
              "      <td>64.761692</td>\n",
              "      <td>2281.916928</td>\n",
              "    </tr>\n",
              "    <tr>\n",
              "      <th>std</th>\n",
              "      <td>0.368612</td>\n",
              "      <td>24.559481</td>\n",
              "      <td>30.090047</td>\n",
              "      <td>2265.270398</td>\n",
              "    </tr>\n",
              "    <tr>\n",
              "      <th>min</th>\n",
              "      <td>0.000000</td>\n",
              "      <td>0.000000</td>\n",
              "      <td>18.250000</td>\n",
              "      <td>18.800000</td>\n",
              "    </tr>\n",
              "    <tr>\n",
              "      <th>25%</th>\n",
              "      <td>0.000000</td>\n",
              "      <td>9.000000</td>\n",
              "      <td>35.500000</td>\n",
              "      <td>402.225000</td>\n",
              "    </tr>\n",
              "    <tr>\n",
              "      <th>50%</th>\n",
              "      <td>0.000000</td>\n",
              "      <td>29.000000</td>\n",
              "      <td>70.350000</td>\n",
              "      <td>1397.475000</td>\n",
              "    </tr>\n",
              "    <tr>\n",
              "      <th>75%</th>\n",
              "      <td>0.000000</td>\n",
              "      <td>55.000000</td>\n",
              "      <td>89.850000</td>\n",
              "      <td>3786.600000</td>\n",
              "    </tr>\n",
              "    <tr>\n",
              "      <th>max</th>\n",
              "      <td>1.000000</td>\n",
              "      <td>72.000000</td>\n",
              "      <td>118.750000</td>\n",
              "      <td>8684.800000</td>\n",
              "    </tr>\n",
              "  </tbody>\n",
              "</table>\n",
              "</div>"
            ],
            "text/plain": [
              "       SeniorCitizen       tenure  MonthlyCharges  TotalCharges\n",
              "count    7043.000000  7043.000000     7043.000000   7043.000000\n",
              "mean        0.162147    32.371149       64.761692   2281.916928\n",
              "std         0.368612    24.559481       30.090047   2265.270398\n",
              "min         0.000000     0.000000       18.250000     18.800000\n",
              "25%         0.000000     9.000000       35.500000    402.225000\n",
              "50%         0.000000    29.000000       70.350000   1397.475000\n",
              "75%         0.000000    55.000000       89.850000   3786.600000\n",
              "max         1.000000    72.000000      118.750000   8684.800000"
            ]
          },
          "metadata": {
            "tags": []
          },
          "execution_count": 24
        }
      ]
    },
    {
      "cell_type": "markdown",
      "metadata": {
        "id": "ba4oA9_6HrB9"
      },
      "source": [
        "Analisando o boxplot para as colunas MonthlyCharges e TotalCharges, a distribuição dos valores reforça essa hipótese. O threshold padrão não acusou nenhum plot fora dos limites superior e inferior."
      ]
    },
    {
      "cell_type": "code",
      "metadata": {
        "id": "yS-JoZrKHyPj",
        "outputId": "f6caaa3d-812e-4ed8-efd1-09570609a4ba",
        "colab": {
          "base_uri": "https://localhost:8080/",
          "height": 297
        }
      },
      "source": [
        "fig, ax = plt.subplots(nrows=1, ncols=2, figsize=(12, 4))\n",
        "sns.boxplot(df_clean['MonthlyCharges'], ax=ax[0])\n",
        "sns.boxplot(df_clean['TotalCharges'], ax=ax[1])\n",
        "plt.tight_layout()\n",
        "\n"
      ],
      "execution_count": null,
      "outputs": [
        {
          "output_type": "display_data",
          "data": {
            "image/png": "[encoded data removed]",
            "text/plain": [
              "<Figure size 864x288 with 2 Axes>"
            ]
          },
          "metadata": {
            "tags": [],
            "needs_background": "light"
          }
        }
      ]
    },
    {
      "cell_type": "markdown",
      "metadata": {
        "id": "QVKTvqdlH3VG"
      },
      "source": [
        "A variável Tenure está relacionada ao tempo que um cliente permance assinando determinado serviço. Em outras palavras, pode-se dizer que é um indicativo de fidelidade. Foi assumida que a unidade de tempo utilizada é \"mês\". A partir do gráfico disponibilizado abaixo, é possível verificar que cerca de 600 clientes ficam aproximadamente 1 mês assinando um serviço, mas que isso é bastante variável. Tendo clientes que permanecem diversos outros períodos até 72 meses. \n"
      ]
    },
    {
      "cell_type": "code",
      "metadata": {
        "id": "i4_t4BQ_IbJl",
        "outputId": "23556bb1-6a60-4a49-c61b-f14b4349116a",
        "colab": {
          "base_uri": "https://localhost:8080/",
          "height": 297
        }
      },
      "source": [
        "fig, ax = plt.subplots(figsize=(12, 4))\n",
        "sns.countplot(df['tenure'])\n",
        "plt.tight_layout()"
      ],
      "execution_count": null,
      "outputs": [
        {
          "output_type": "display_data",
          "data": {
            "image/png": "[encoded data removed]",
            "text/plain": [
              "<Figure size 864x288 with 1 Axes>"
            ]
          },
          "metadata": {
            "tags": [],
            "needs_background": "light"
          }
        }
      ]
    },
    {
      "cell_type": "markdown",
      "metadata": {
        "id": "maybh9KzIlt3"
      },
      "source": [
        "Lidando com variáveis categóricas, é importante ver os valores únicos. Isso permite identificar situações como labels diferentes querendo indicar a mesma coisa. É preciso analisar, exemplo: \n",
        "Vendo os valores impressos na célula abaixo, podemos considerar valores como No, No phone service e No internet service como sendo a mesma coisa. Isso é uma sugestão, mas aqui será considerado cada label individualmente. \n"
      ]
    },
    {
      "cell_type": "code",
      "metadata": {
        "id": "SchcExfNIqQH",
        "outputId": "8a6d9b53-9d79-4956-fe80-46d9350c6a21",
        "colab": {
          "base_uri": "https://localhost:8080/"
        }
      },
      "source": [
        "# verificar valores únicos das variáveis categóricas\n",
        "np.unique(df_clean.select_dtypes('object').values)"
      ],
      "execution_count": null,
      "outputs": [
        {
          "output_type": "execute_result",
          "data": {
            "text/plain": [
              "array(['Bank transfer (automatic)', 'Credit card (automatic)', 'DSL',\n",
              "       'Electronic check', 'Female', 'Fiber optic', 'Mailed check',\n",
              "       'Male', 'Month-to-month', 'No', 'No internet service',\n",
              "       'No phone service', 'One year', 'Two year', 'Yes'], dtype=object)"
            ]
          },
          "metadata": {
            "tags": []
          },
          "execution_count": 27
        }
      ]
    },
    {
      "cell_type": "markdown",
      "metadata": {
        "id": "kWZFsXeMJYzI"
      },
      "source": [
        "Por fim, nesta primeira análise exploratória, vamos ver o balanceamento das classes dda variável Churn, a variável alvo.\n",
        "\n",
        "É possível identificar a partir do gráfico de barras que a classe No ocorre com frequência muito superior à classe Yes, ou seja, está desbalanceado. Esta questão deve ser trabalhada, uma vez que o desbalanceamento das classes enviesa o modelo. Logo, para alimentar o modelo, as classes serão balanceadas. "
      ]
    },
    {
      "cell_type": "code",
      "metadata": {
        "id": "Q-35i6-VJgz3",
        "outputId": "344ea894-ab4f-4930-8357-ffcf790bb307",
        "colab": {
          "base_uri": "https://localhost:8080/",
          "height": 296
        }
      },
      "source": [
        "sns.countplot(df.Churn)"
      ],
      "execution_count": null,
      "outputs": [
        {
          "output_type": "execute_result",
          "data": {
            "text/plain": [
              "<matplotlib.axes._subplots.AxesSubplot at 0x7fa5b3647c88>"
            ]
          },
          "metadata": {
            "tags": []
          },
          "execution_count": 29
        },
        {
          "output_type": "display_data",
          "data": {
            "image/png": "[encoded data removed]",
            "text/plain": [
              "<Figure size 432x288 with 1 Axes>"
            ]
          },
          "metadata": {
            "tags": [],
            "needs_background": "light"
          }
        }
      ]
    },
    {
      "cell_type": "markdown",
      "metadata": {
        "id": "bhpF9ZDiGOxi"
      },
      "source": [
        "Essta análise exploratória é bastante sucinta, no entanto, é racional estabelecer o problema e analisar os dados de forma a levantar hipóteses para aquele problema, sem extender as análises à outras soluções ainda fora do escopo atual. No entanto, este banco de dados abre um leque para extrair diversas outras informações, gerando possibilidade para a construção de uma diversidade de gráficos ou ainda, encontrar novas problemáticas para desenvolver modelos que as solucionem. "
      ]
    },
    {
      "cell_type": "markdown",
      "metadata": {
        "id": "THJm14ZcJkIF"
      },
      "source": [
        "## Preparação dos Dados "
      ]
    },
    {
      "cell_type": "markdown",
      "metadata": {
        "id": "sxThJwI0JnN0"
      },
      "source": [
        "Nesta etapa de preparação dos dados, será realizado um pré-processamento básico, apenas com a finalidade de construir um modelo base.\n",
        "\n",
        "As features que continham dois labels únicos serão processadas usando o LabelEncoder, as categóricas serão transformadas em variáveis dummy, para permitir a sua utilização em todos os modelos. Vale lembrar que isso inclui a variável alvo Churn. Na sequência, serão separadas as variáveis numéricas das categóricas. "
      ]
    },
    {
      "cell_type": "code",
      "metadata": {
        "id": "jXWZ1fVAJ49C",
        "outputId": "66862db2-270e-4e9a-bc97-c377c11f5ae0",
        "colab": {
          "base_uri": "https://localhost:8080/",
          "height": 258
        }
      },
      "source": [
        "# pré processar as variáveis\n",
        "binary_var = df_clean.nunique()[df_clean.nunique() == 2].keys().tolist()\n",
        "num_var = [col for col in df_clean.select_dtypes(['int', 'float']).columns.tolist() if col not in binary_var]\n",
        "cat_var = [col for col in df_clean.columns.tolist() if col not in binary_var + num_var]\n",
        "\n",
        "# criar uma cópia do dataframe\n",
        "df_proc = df_clean.copy()\n",
        "\n",
        "# Label Encoding para as variáveis Binárias\n",
        "le = LabelEncoder()\n",
        "for i in binary_var:\n",
        "    df_proc[i] = le.fit_transform(df_proc[i])\n",
        "\n",
        "# Encoding para colunas categóricas com múltiplas classes\n",
        "df_proc = pd.get_dummies(df_proc, columns=cat_var)\n",
        "\n",
        "# ver as 5 primeiras entradas do novo dataframe\n",
        "df_proc.head()"
      ],
      "execution_count": null,
      "outputs": [
        {
          "output_type": "execute_result",
          "data": {
            "text/html": [
              "<div>\n",
              "<style scoped>\n",
              "    .dataframe tbody tr th:only-of-type {\n",
              "        vertical-align: middle;\n",
              "    }\n",
              "\n",
              "    .dataframe tbody tr th {\n",
              "        vertical-align: top;\n",
              "    }\n",
              "\n",
              "    .dataframe thead th {\n",
              "        text-align: right;\n",
              "    }\n",
              "</style>\n",
              "<table border=\"1\" class=\"dataframe\">\n",
              "  <thead>\n",
              "    <tr style=\"text-align: right;\">\n",
              "      <th></th>\n",
              "      <th>gender</th>\n",
              "      <th>SeniorCitizen</th>\n",
              "      <th>Partner</th>\n",
              "      <th>Dependents</th>\n",
              "      <th>tenure</th>\n",
              "      <th>PhoneService</th>\n",
              "      <th>PaperlessBilling</th>\n",
              "      <th>MonthlyCharges</th>\n",
              "      <th>TotalCharges</th>\n",
              "      <th>Churn</th>\n",
              "      <th>MultipleLines_No</th>\n",
              "      <th>MultipleLines_No phone service</th>\n",
              "      <th>MultipleLines_Yes</th>\n",
              "      <th>InternetService_DSL</th>\n",
              "      <th>InternetService_Fiber optic</th>\n",
              "      <th>InternetService_No</th>\n",
              "      <th>OnlineSecurity_No</th>\n",
              "      <th>OnlineSecurity_No internet service</th>\n",
              "      <th>OnlineSecurity_Yes</th>\n",
              "      <th>OnlineBackup_No</th>\n",
              "      <th>OnlineBackup_No internet service</th>\n",
              "      <th>OnlineBackup_Yes</th>\n",
              "      <th>DeviceProtection_No</th>\n",
              "      <th>DeviceProtection_No internet service</th>\n",
              "      <th>DeviceProtection_Yes</th>\n",
              "      <th>TechSupport_No</th>\n",
              "      <th>TechSupport_No internet service</th>\n",
              "      <th>TechSupport_Yes</th>\n",
              "      <th>StreamingTV_No</th>\n",
              "      <th>StreamingTV_No internet service</th>\n",
              "      <th>StreamingTV_Yes</th>\n",
              "      <th>StreamingMovies_No</th>\n",
              "      <th>StreamingMovies_No internet service</th>\n",
              "      <th>StreamingMovies_Yes</th>\n",
              "      <th>Contract_Month-to-month</th>\n",
              "      <th>Contract_One year</th>\n",
              "      <th>Contract_Two year</th>\n",
              "      <th>PaymentMethod_Bank transfer (automatic)</th>\n",
              "      <th>PaymentMethod_Credit card (automatic)</th>\n",
              "      <th>PaymentMethod_Electronic check</th>\n",
              "      <th>PaymentMethod_Mailed check</th>\n",
              "    </tr>\n",
              "  </thead>\n",
              "  <tbody>\n",
              "    <tr>\n",
              "      <th>0</th>\n",
              "      <td>0</td>\n",
              "      <td>0</td>\n",
              "      <td>1</td>\n",
              "      <td>0</td>\n",
              "      <td>1</td>\n",
              "      <td>0</td>\n",
              "      <td>1</td>\n",
              "      <td>29.85</td>\n",
              "      <td>29.85</td>\n",
              "      <td>0</td>\n",
              "      <td>0</td>\n",
              "      <td>1</td>\n",
              "      <td>0</td>\n",
              "      <td>1</td>\n",
              "      <td>0</td>\n",
              "      <td>0</td>\n",
              "      <td>1</td>\n",
              "      <td>0</td>\n",
              "      <td>0</td>\n",
              "      <td>0</td>\n",
              "      <td>0</td>\n",
              "      <td>1</td>\n",
              "      <td>1</td>\n",
              "      <td>0</td>\n",
              "      <td>0</td>\n",
              "      <td>1</td>\n",
              "      <td>0</td>\n",
              "      <td>0</td>\n",
              "      <td>1</td>\n",
              "      <td>0</td>\n",
              "      <td>0</td>\n",
              "      <td>1</td>\n",
              "      <td>0</td>\n",
              "      <td>0</td>\n",
              "      <td>1</td>\n",
              "      <td>0</td>\n",
              "      <td>0</td>\n",
              "      <td>0</td>\n",
              "      <td>0</td>\n",
              "      <td>1</td>\n",
              "      <td>0</td>\n",
              "    </tr>\n",
              "    <tr>\n",
              "      <th>1</th>\n",
              "      <td>1</td>\n",
              "      <td>0</td>\n",
              "      <td>0</td>\n",
              "      <td>0</td>\n",
              "      <td>34</td>\n",
              "      <td>1</td>\n",
              "      <td>0</td>\n",
              "      <td>56.95</td>\n",
              "      <td>1889.50</td>\n",
              "      <td>0</td>\n",
              "      <td>1</td>\n",
              "      <td>0</td>\n",
              "      <td>0</td>\n",
              "      <td>1</td>\n",
              "      <td>0</td>\n",
              "      <td>0</td>\n",
              "      <td>0</td>\n",
              "      <td>0</td>\n",
              "      <td>1</td>\n",
              "      <td>1</td>\n",
              "      <td>0</td>\n",
              "      <td>0</td>\n",
              "      <td>0</td>\n",
              "      <td>0</td>\n",
              "      <td>1</td>\n",
              "      <td>1</td>\n",
              "      <td>0</td>\n",
              "      <td>0</td>\n",
              "      <td>1</td>\n",
              "      <td>0</td>\n",
              "      <td>0</td>\n",
              "      <td>1</td>\n",
              "      <td>0</td>\n",
              "      <td>0</td>\n",
              "      <td>0</td>\n",
              "      <td>1</td>\n",
              "      <td>0</td>\n",
              "      <td>0</td>\n",
              "      <td>0</td>\n",
              "      <td>0</td>\n",
              "      <td>1</td>\n",
              "    </tr>\n",
              "    <tr>\n",
              "      <th>2</th>\n",
              "      <td>1</td>\n",
              "      <td>0</td>\n",
              "      <td>0</td>\n",
              "      <td>0</td>\n",
              "      <td>2</td>\n",
              "      <td>1</td>\n",
              "      <td>1</td>\n",
              "      <td>53.85</td>\n",
              "      <td>108.15</td>\n",
              "      <td>1</td>\n",
              "      <td>1</td>\n",
              "      <td>0</td>\n",
              "      <td>0</td>\n",
              "      <td>1</td>\n",
              "      <td>0</td>\n",
              "      <td>0</td>\n",
              "      <td>0</td>\n",
              "      <td>0</td>\n",
              "      <td>1</td>\n",
              "      <td>0</td>\n",
              "      <td>0</td>\n",
              "      <td>1</td>\n",
              "      <td>1</td>\n",
              "      <td>0</td>\n",
              "      <td>0</td>\n",
              "      <td>1</td>\n",
              "      <td>0</td>\n",
              "      <td>0</td>\n",
              "      <td>1</td>\n",
              "      <td>0</td>\n",
              "      <td>0</td>\n",
              "      <td>1</td>\n",
              "      <td>0</td>\n",
              "      <td>0</td>\n",
              "      <td>1</td>\n",
              "      <td>0</td>\n",
              "      <td>0</td>\n",
              "      <td>0</td>\n",
              "      <td>0</td>\n",
              "      <td>0</td>\n",
              "      <td>1</td>\n",
              "    </tr>\n",
              "    <tr>\n",
              "      <th>3</th>\n",
              "      <td>1</td>\n",
              "      <td>0</td>\n",
              "      <td>0</td>\n",
              "      <td>0</td>\n",
              "      <td>45</td>\n",
              "      <td>0</td>\n",
              "      <td>0</td>\n",
              "      <td>42.30</td>\n",
              "      <td>1840.75</td>\n",
              "      <td>0</td>\n",
              "      <td>0</td>\n",
              "      <td>1</td>\n",
              "      <td>0</td>\n",
              "      <td>1</td>\n",
              "      <td>0</td>\n",
              "      <td>0</td>\n",
              "      <td>0</td>\n",
              "      <td>0</td>\n",
              "      <td>1</td>\n",
              "      <td>1</td>\n",
              "      <td>0</td>\n",
              "      <td>0</td>\n",
              "      <td>0</td>\n",
              "      <td>0</td>\n",
              "      <td>1</td>\n",
              "      <td>0</td>\n",
              "      <td>0</td>\n",
              "      <td>1</td>\n",
              "      <td>1</td>\n",
              "      <td>0</td>\n",
              "      <td>0</td>\n",
              "      <td>1</td>\n",
              "      <td>0</td>\n",
              "      <td>0</td>\n",
              "      <td>0</td>\n",
              "      <td>1</td>\n",
              "      <td>0</td>\n",
              "      <td>1</td>\n",
              "      <td>0</td>\n",
              "      <td>0</td>\n",
              "      <td>0</td>\n",
              "    </tr>\n",
              "    <tr>\n",
              "      <th>4</th>\n",
              "      <td>0</td>\n",
              "      <td>0</td>\n",
              "      <td>0</td>\n",
              "      <td>0</td>\n",
              "      <td>2</td>\n",
              "      <td>1</td>\n",
              "      <td>1</td>\n",
              "      <td>70.70</td>\n",
              "      <td>151.65</td>\n",
              "      <td>1</td>\n",
              "      <td>1</td>\n",
              "      <td>0</td>\n",
              "      <td>0</td>\n",
              "      <td>0</td>\n",
              "      <td>1</td>\n",
              "      <td>0</td>\n",
              "      <td>1</td>\n",
              "      <td>0</td>\n",
              "      <td>0</td>\n",
              "      <td>1</td>\n",
              "      <td>0</td>\n",
              "      <td>0</td>\n",
              "      <td>1</td>\n",
              "      <td>0</td>\n",
              "      <td>0</td>\n",
              "      <td>1</td>\n",
              "      <td>0</td>\n",
              "      <td>0</td>\n",
              "      <td>1</td>\n",
              "      <td>0</td>\n",
              "      <td>0</td>\n",
              "      <td>1</td>\n",
              "      <td>0</td>\n",
              "      <td>0</td>\n",
              "      <td>1</td>\n",
              "      <td>0</td>\n",
              "      <td>0</td>\n",
              "      <td>0</td>\n",
              "      <td>0</td>\n",
              "      <td>1</td>\n",
              "      <td>0</td>\n",
              "    </tr>\n",
              "  </tbody>\n",
              "</table>\n",
              "</div>"
            ],
            "text/plain": [
              "   gender  ...  PaymentMethod_Mailed check\n",
              "0       0  ...                           0\n",
              "1       1  ...                           1\n",
              "2       1  ...                           1\n",
              "3       1  ...                           0\n",
              "4       0  ...                           0\n",
              "\n",
              "[5 rows x 41 columns]"
            ]
          },
          "metadata": {
            "tags": []
          },
          "execution_count": 30
        }
      ]
    },
    {
      "cell_type": "markdown",
      "metadata": {
        "id": "JWNRMikvKI7M"
      },
      "source": [
        "## Modelo de Machine Learning\n",
        "\n",
        "Posterior à análise exploratória, limpeza e tratamento dos dados, já podem ser construidos os modelos de Machine Learning. \n",
        "\n",
        "Neste trabalho não foi realizado nenhum ajuste nos hiperparâmetros, nem balanceamento de dados, feature engineering ou feature selection ou outras tecnicas que podem ser que melhorem a performance dos modelos. O objetivo aqui é criar um baseline simples para logo em seguida comparar com os outros modelos. \n",
        "\n",
        "Primeiramente, foi dividido entre dados de treino e teste. Os dados de teste só irão ser usados na última etapa do projeto, para termos uma avaliação mais real."
      ]
    },
    {
      "cell_type": "code",
      "metadata": {
        "id": "jSDGFHxKKX0A"
      },
      "source": [
        "# separar a feature matrix da target vector\n",
        "X = df_proc.drop('Churn', axis=1)\n",
        "y = df_proc['Churn']\n",
        "\n",
        "# dividir os dados entre treino e teste.\n",
        "X_train, X_test, y_train, y_test = train_test_split(X, y)"
      ],
      "execution_count": null,
      "outputs": []
    },
    {
      "cell_type": "markdown",
      "metadata": {
        "id": "yhOv_61KKgFQ"
      },
      "source": [
        "Foi utilizada a técnica de cross-validation para estimar o erro da baseline e dos modelos iniciais. Para facilitar e melhorar o código, foi criada uma função `val_model`, que permite estabelecer um pipeline. A métrica utilizada para avaliação será `recall`."
      ]
    },
    {
      "cell_type": "code",
      "metadata": {
        "id": "QKDGAofLKwcD"
      },
      "source": [
        "def val_model(X, y, clf, quite=False):\n",
        "    \"\"\"\n",
        "    Realiza cross-validation com os dados de treino para determinado modelo.\n",
        "\n",
        "    # Arguments\n",
        "        X: DataFrame, contém as variáveis independetes.\n",
        "        y: Series, vetor contendo a variável alvo.\n",
        "        clf: modelo classificador do Scikit-learn.\n",
        "        quite: bool, indicando se a função deve imprimir os resultados ou não.\n",
        "\n",
        "    # Returns\n",
        "        float, média dos scores da cross-validation.\n",
        "    \"\"\"\n",
        "    \n",
        "    X = np.array(X)\n",
        "    y = np.array(y)\n",
        "\n",
        "    pipeline = make_pipeline(StandardScaler(), clf)\n",
        "    scores = cross_val_score(pipeline, X, y, scoring='recall')\n",
        "\n",
        "    if quite == False:\n",
        "        print(\"Recall: {:.2f} (+/- {:.2f})\".format(scores.mean(), scores.std()))\n",
        "    \n",
        "    return scores.mean()"
      ],
      "execution_count": null,
      "outputs": []
    },
    {
      "cell_type": "markdown",
      "metadata": {
        "id": "Biaa9-mTLC1f"
      },
      "source": [
        "Para o baseline inicial, usarei o Random Forest, sem nenhum tipo de alteração nos parâmetros. Os dados que serão passados são os de treino."
      ]
    },
    {
      "cell_type": "code",
      "metadata": {
        "id": "X5x0p3E8LENI",
        "outputId": "fe497163-44bb-45ed-e6ca-60308ad0a998",
        "colab": {
          "base_uri": "https://localhost:8080/"
        }
      },
      "source": [
        "# Instanciar o modelo e analisar o seu desempenho\n",
        "rf = RandomForestClassifier()\n",
        "score_baseline = val_model(X_train, y_train, rf)"
      ],
      "execution_count": null,
      "outputs": [
        {
          "output_type": "stream",
          "text": [
            "Recall: 0.47 (+/- 0.02)\n"
          ],
          "name": "stdout"
        }
      ]
    },
    {
      "cell_type": "markdown",
      "metadata": {
        "id": "OC7ZEZQtLHwY"
      },
      "source": [
        "Agora que com um baseline simples, foi realizado o balanceamento dos dados das variáveis para comparar se este ajustes melhora ou piora o desempenho do modelo. Esta etapa será realizada com Under Sampling. No entanto, antes de balancear, os dados devem ser padronizados. Lembrando que as variáveis já foram transformadas em dummies. \n",
        "\n",
        "É importante que o balanceamento aconteca apenas com os dados de treino. Os dados de teste devem permanecer intocáveis até o momento de usá-los para testar o modelo. "
      ]
    },
    {
      "cell_type": "code",
      "metadata": {
        "id": "6MZpTb05LLV9"
      },
      "source": [
        "#  padronizar os  dados,\n",
        "scaler = StandardScaler().fit(X_train)\n",
        "X_train = scaler.transform(X_train)\n",
        "\n",
        "\n",
        "rus = RandomUnderSampler()\n",
        "X_train_rus, y_train_rus = rus.fit_sample(X_train, y_train)"
      ],
      "execution_count": null,
      "outputs": []
    },
    {
      "cell_type": "markdown",
      "metadata": {
        "id": "c2hb3sk3LQEu"
      },
      "source": [
        "A aplicação da cross validation a vários modelos foi realizada a vários modelos, a fim de identificar os seus desempenhos e escolher o(s) melhor(es). Novamente, serão utilizados apenas dados de treino. Os modelos escolhidos são:\n",
        "\n",
        "Random Forest,\n",
        "Decision Tree,\n",
        "Stochastic Gradient Descent,\n",
        "SVC,\n",
        "Regressão Logística,\n",
        "LightGBM. "
      ]
    },
    {
      "cell_type": "code",
      "metadata": {
        "id": "lx791KXPLTDg",
        "outputId": "2e7ac7a5-58e4-4fb7-95e1-a5d73aeedb84",
        "colab": {
          "base_uri": "https://localhost:8080/",
          "height": 266
        }
      },
      "source": [
        "# instanciar modelos\n",
        "rf = RandomForestClassifier()\n",
        "dt = DecisionTreeClassifier()\n",
        "sgdc = SGDClassifier()\n",
        "svc = SVC()\n",
        "lr = LogisticRegression()\n",
        "xgb = XGBClassifier()\n",
        "lgbm = LGBMClassifier()\n",
        "\n",
        "model = []\n",
        "recall = []\n",
        "# avaliar o desempenho (recall)\n",
        "for clf in (rf, dt, sgdc, svc, lr, xgb, lgbm):\n",
        "    model.append(clf.__class__.__name__)\n",
        "    recall.append(val_model(X_train_rus, y_train_rus, clf, quite=True))\n",
        "\n",
        "pd.DataFrame(data=recall, index=model, columns=['Recall'])"
      ],
      "execution_count": null,
      "outputs": [
        {
          "output_type": "execute_result",
          "data": {
            "text/html": [
              "<div>\n",
              "<style scoped>\n",
              "    .dataframe tbody tr th:only-of-type {\n",
              "        vertical-align: middle;\n",
              "    }\n",
              "\n",
              "    .dataframe tbody tr th {\n",
              "        vertical-align: top;\n",
              "    }\n",
              "\n",
              "    .dataframe thead th {\n",
              "        text-align: right;\n",
              "    }\n",
              "</style>\n",
              "<table border=\"1\" class=\"dataframe\">\n",
              "  <thead>\n",
              "    <tr style=\"text-align: right;\">\n",
              "      <th></th>\n",
              "      <th>Recall</th>\n",
              "    </tr>\n",
              "  </thead>\n",
              "  <tbody>\n",
              "    <tr>\n",
              "      <th>RandomForestClassifier</th>\n",
              "      <td>0.769784</td>\n",
              "    </tr>\n",
              "    <tr>\n",
              "      <th>DecisionTreeClassifier</th>\n",
              "      <td>0.681295</td>\n",
              "    </tr>\n",
              "    <tr>\n",
              "      <th>SGDClassifier</th>\n",
              "      <td>0.733813</td>\n",
              "    </tr>\n",
              "    <tr>\n",
              "      <th>SVC</th>\n",
              "      <td>0.790647</td>\n",
              "    </tr>\n",
              "    <tr>\n",
              "      <th>LogisticRegression</th>\n",
              "      <td>0.807194</td>\n",
              "    </tr>\n",
              "    <tr>\n",
              "      <th>XGBClassifier</th>\n",
              "      <td>0.805036</td>\n",
              "    </tr>\n",
              "    <tr>\n",
              "      <th>LGBMClassifier</th>\n",
              "      <td>0.766187</td>\n",
              "    </tr>\n",
              "  </tbody>\n",
              "</table>\n",
              "</div>"
            ],
            "text/plain": [
              "                          Recall\n",
              "RandomForestClassifier  0.769784\n",
              "DecisionTreeClassifier  0.681295\n",
              "SGDClassifier           0.733813\n",
              "SVC                     0.790647\n",
              "LogisticRegression      0.807194\n",
              "XGBClassifier           0.805036\n",
              "LGBMClassifier          0.766187"
            ]
          },
          "metadata": {
            "tags": []
          },
          "execution_count": 35
        }
      ]
    },
    {
      "cell_type": "markdown",
      "metadata": {
        "id": "EAyrrmerLaDn"
      },
      "source": [
        "Dadas as características do problema e o desempenho durante as execuções anteriores, optei pelo XGBoost, praticamente empatado com a Regressão Logística.\n",
        "\n",
        "No entanto, neste modelo, o tuning dos parâmetros pode melhorar ainda mais a qualidade da solução. Como temos poucos ajustes possíveis na Regressão Logística, não acredito que o resultado poderia passar o XGBoost."
      ]
    },
    {
      "cell_type": "markdown",
      "metadata": {
        "id": "z8f2iQjBLbwM"
      },
      "source": [
        "Otimização dos Hiperparâmetros\n",
        "XGBoost possui inúmeros parâmetros. Alguns afetam mais a qualidade do modelo, outros menos. Uma boa prática é definir uma taxa de aprendizado e número de estimadores, realizar tuning de outros parâmetros e, no final, checar outras taxas de aprendizado.\n",
        "\n",
        "Abaixo,  número de estimadores foi ajustado. O modelo foi instanciado com a learning_rate=0.1."
      ]
    },
    {
      "cell_type": "code",
      "metadata": {
        "id": "0dFxYMWzLgPe",
        "outputId": "c3071154-bd02-4ab3-b5d4-06983bf66e2a",
        "colab": {
          "base_uri": "https://localhost:8080/"
        }
      },
      "source": [
        "xgb = XGBClassifier(learning_rate=0.1)\n",
        "\n",
        "param_grid = {\n",
        " 'n_estimators':range(0,1000,50),\n",
        "}\n",
        "\n",
        "# identificar melhor parâmetro\n",
        "kfold = StratifiedKFold(n_splits=10, shuffle=True)\n",
        "grid_search = GridSearchCV(xgb, param_grid, scoring=\"recall\", n_jobs=-1, cv=kfold)\n",
        "grid_result = grid_search.fit(X_train_rus, y_train_rus)\n",
        "\n",
        "# ver resultados\n",
        "print(\"Melhor: {} para {}\".format(grid_result.best_score_, grid_result.best_params_))"
      ],
      "execution_count": null,
      "outputs": [
        {
          "output_type": "stream",
          "text": [
            "Melhor: 0.8107913669064748 para {'n_estimators': 50}\n"
          ],
          "name": "stdout"
        }
      ]
    },
    {
      "cell_type": "markdown",
      "metadata": {
        "id": "vWR8aJ1fL-Tj"
      },
      "source": [
        "Com o número de estimadores igual a 50, foi realizada a busca pelos parâmtros max_depth e min_child_weight.\n"
      ]
    },
    {
      "cell_type": "code",
      "metadata": {
        "id": "F2_EJb_SMDgh"
      },
      "source": [
        "xgb = XGBClassifier(learning_rate=0.1, n_estimators=50)\n",
        "\n",
        "param_grid = {\n",
        " 'max_depth':range(1,8,1),\n",
        " 'min_child_weight':range(1,5,1)\n",
        "}\n",
        "\n",
        "# identificar melhor parâmetro\n",
        "kfold = StratifiedKFold(n_splits=10, shuffle=True)\n",
        "grid_search = GridSearchCV(xgb, param_grid, scoring=\"recall\", n_jobs=-1, cv=kfold)\n",
        "grid_result = grid_search.fit(X_train_rus, y_train_rus)\n",
        "\n",
        "# ver resultados\n",
        "print(\"Melhor: {} para {}\".format(grid_result.best_score_, grid_result.best_params_))"
      ],
      "execution_count": null,
      "outputs": []
    },
    {
      "cell_type": "markdown",
      "metadata": {
        "id": "IW7BHibHMG3P"
      },
      "source": [
        "Obtidos os valores de max_depth=1 e min_child_weight=1, irei otimizar o parâmetro gamma."
      ]
    },
    {
      "cell_type": "code",
      "metadata": {
        "id": "IY_32jr7MMHH"
      },
      "source": [
        "xgb = XGBClassifier(learning_rate=0.1, n_estimators=50, max_depth=1, min_child_weight=1)\n",
        "\n",
        "param_grid = {\n",
        " 'gamma':[i/10.0 for i in range(0,5)]\n",
        "}\n",
        "\n",
        "# identificar melhor parâmetro\n",
        "kfold = StratifiedKFold(n_splits=10, shuffle=True)\n",
        "grid_search = GridSearchCV(xgb, param_grid, scoring=\"recall\", n_jobs=-1, cv=kfold)\n",
        "grid_result = grid_search.fit(X_train_rus, y_train_rus)\n",
        "\n",
        "# ver resultados\n",
        "print(\"Melhor: {} para {}\".format(grid_result.best_score_, grid_result.best_params_))"
      ],
      "execution_count": null,
      "outputs": []
    },
    {
      "cell_type": "markdown",
      "metadata": {
        "id": "OSdQjnn1MSUk"
      },
      "source": [
        "Por fim, obtido gamma=0, foi testados quatro valores para a learning_rate e ver qual oferece o melhor resultado."
      ]
    },
    {
      "cell_type": "code",
      "metadata": {
        "id": "M2rJGfxlMVCn",
        "outputId": "8c499195-6c3d-4f15-a75b-a58b30a82793",
        "colab": {
          "base_uri": "https://localhost:8080/"
        }
      },
      "source": [
        "xgb = XGBClassifier(n_estimators=50, max_depth=1, min_child_weight=1, gamma=0.0)\n",
        "\n",
        "param_grid = {\n",
        " 'learning_rate':[0.001, 0.01, 0.1, 1]\n",
        "}\n",
        "\n",
        "# identificar melhor parâmetro\n",
        "kfold = StratifiedKFold(n_splits=10, shuffle=True)\n",
        "grid_search = GridSearchCV(xgb, param_grid, scoring=\"recall\", n_jobs=-1, cv=kfold)\n",
        "grid_result = grid_search.fit(X_train_rus, y_train_rus)\n",
        "\n",
        "# ver resultados\n",
        "print(\"Melhor: {} para {}\".format(grid_result.best_score_, grid_result.best_params_))"
      ],
      "execution_count": null,
      "outputs": [
        {
          "output_type": "stream",
          "text": [
            "Melhor: 0.881294964028777 para {'learning_rate': 0.001}\n"
          ],
          "name": "stdout"
        }
      ]
    },
    {
      "cell_type": "markdown",
      "metadata": {
        "id": "tsrfruVtMYB-"
      },
      "source": [
        "Fato é que uma taxa de aprendizado menor, conseguiu melhorar o desempenho do modelo XGBoost, considerando recall como sendo a única métrica de importância. Lembrando que há outras métricas, mas aqui foi considerada somente o recall. \n",
        "\n",
        "Agora, o modelo foi treinado em cima do dataset de treino completo, e verifica-se o desempenho final em cima dos dados de teste, no seu primeiro contato com esse sub-conjunto que havia sido preservado."
      ]
    },
    {
      "cell_type": "code",
      "metadata": {
        "id": "qE_I-P1VMaVR",
        "outputId": "efd73df6-bdd4-4879-8f2c-c1df9668548a",
        "colab": {
          "base_uri": "https://localhost:8080/",
          "height": 482
        }
      },
      "source": [
        "# modelo final\n",
        "xgb = XGBClassifier(learning_rate=0.001 , n_estimators=50, max_depth=1, min_child_weight=1, gamma=0.0)\n",
        "xgb.fit(X_train_rus, y_train_rus)\n",
        "\n",
        "# fazer a previsão\n",
        "X_test = scaler.transform(X_test)\n",
        "y_pred = xgb.predict(X_test)\n",
        "\n",
        "# Classification Report\n",
        "print(classification_report(y_test, y_pred))\n",
        "\n",
        "# imprimir a área sob a curva\n",
        "print(\"AUC: {:.4f}\\n\".format(roc_auc_score(y_test, y_pred)))\n",
        "\n",
        "# plotar matriz de confusão\n",
        "plot_confusion_matrix(y_test, y_pred, normalize=True)\n",
        "plt.show()"
      ],
      "execution_count": null,
      "outputs": [
        {
          "output_type": "stream",
          "text": [
            "              precision    recall  f1-score   support\n",
            "\n",
            "           0       0.94      0.57      0.71      1282\n",
            "           1       0.44      0.90      0.59       479\n",
            "\n",
            "    accuracy                           0.66      1761\n",
            "   macro avg       0.69      0.73      0.65      1761\n",
            "weighted avg       0.80      0.66      0.68      1761\n",
            "\n",
            "AUC: 0.7336\n",
            "\n"
          ],
          "name": "stdout"
        },
        {
          "output_type": "display_data",
          "data": {
            "image/png": "[encoded data removed]",
            "text/plain": [
              "<Figure size 432x288 with 2 Axes>"
            ]
          },
          "metadata": {
            "tags": [],
            "needs_background": "light"
          }
        }
      ]
    },
    {
      "cell_type": "markdown",
      "metadata": {
        "id": "gMvol2llMeC2"
      },
      "source": [
        "## Conclusões\n",
        "\n",
        "Os modelos testados tiveram uma boa performance, principalmente RandomForest e XGBoost. No entanto, podem ser melhorados a partir do ajuste de hiperparâmetros, e se, a partir de mais análises, verificar a necessidade de tecnicas como feature engineering e feature selection. \n",
        "\n",
        "Além disso, os modelos podem ser avaliados e comparados entre eles a partir de outras métricas, como acurácia, precisão e recall. \n"
      ]
    }
  ]
}